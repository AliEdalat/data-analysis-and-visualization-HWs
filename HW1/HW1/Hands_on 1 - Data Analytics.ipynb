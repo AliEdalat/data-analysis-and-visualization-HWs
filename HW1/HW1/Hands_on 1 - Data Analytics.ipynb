{
 "cells": [
  {
   "cell_type": "markdown",
   "metadata": {},
   "source": [
    "<div style=\"display:block\" direction=rtl align=right><br><br>\n",
    "    <div  style=\"width:100%;margin:100;display:block\"  display=block align=center>\n",
    "        <img width=130 align=right src=\"https://i.ibb.co/yXKQmtZ/logo1.png\" style=\"margin:0;\" />\n",
    "        <img width=170 align=left  src=\"https://i.ibb.co/wLjqFkw/logo2.png\" style=\"margin:0;\" />\n",
    "        <span><br><font size=5>University of Tehran , school of ECE</font></span>\n",
    "        <span><br><font size=3>Data Analytics Course</font></span>\n",
    "        <span><br><font size=3>Fall 1400</font></span>\n",
    "    </div><br><br><br>\n",
    "    <div style=\"display:block\" align=left display=block> \n",
    "        <font size=3>Hands-on 1</font><br>\n",
    "        <hr />\n",
    "        <font size=3>Is there any ؟ Question ? , Feel free to ask me  <a href=\"mailto:mohammad.nili@ut.ac.ir\">mohammad nili</a> :)))<br></font><br>\n",
    "    </div>\n",
    "</div>"
   ]
  },
  {
   "cell_type": "markdown",
   "metadata": {},
   "source": [
    "<pre>\n",
    "Read / manipulation Data & statistics\n",
    "$ ( click to jump on task )\n",
    ".\n",
    "├── Import Data\n",
    "│   ├── Read Txt\n",
    "│   ├── context manager\n",
    "│   │    ├ <a href=\"#t1\">task 1 - read first 5 line of txt file.</a>\n",
    "│   │    └ <a href=\"#t2\">task 2 - split word of each line.</a>\n",
    "│   └── Flat files\n",
    "│       ├ numpy\n",
    "|       |\n",
    "│       ├ pandas\n",
    "│       | ├ split column\n",
    "│       | ├ filter\n",
    "│       | | └ <a href=\"#t3\">task 3 - filter by condition </a>\n",
    "│       | └ group\n",
    "|       | \n",
    "│       └ log\n",
    "│         └ <a href=\"#t4\">task 4 - load log data </a>\n",
    "|   \n",
    "├── Data cleaning\n",
    "│   └── <a href=\"#t5\">task 5 - clean data </a>\n",
    "|\n",
    "├── Data statistics\n",
    "│   └── <a href=\"#t6\">task 6 - statistics </a>\n",
    "|\n",
    "├── Data manipulation\n",
    "│   └── <a href=\"#t7\">task 7 - join tables </a>\n",
    "|\n",
    "└── Data visualization\n",
    "    └── <a href=\"#t8\">task 8 - plot data </a>\n",
    "\n",
    "</pre>\n",
    "\n",
    "\n",
    "\n",
    "<!-- <hr />\n",
    "<font color=red size=5 id=\"task_1\">Tasks Hyperlink </font> ( click to jump )\n",
    "\n",
    "<a href=\"#t1\">task 1 - read first 5 line of txt file.</a><br>\n",
    "<a href=\"#t2\">task 2 - split word of each line.</a><br>\n",
    "<a href=\"#t3\">task 3 - filter by condition</a><br>\n",
    "<a href=\"#t4\">task 4 - load log data </a><br>\n",
    "<a href=\"#t5\">task 5 - clean data </a><br>\n",
    "<a href=\"#t6\">task 6 - statistics </a><br>\n",
    "<a href=\"#t7\">task 7 - joind tables </a><br>\n",
    "<a href=\"#t8\">task 8 - plot data </a><br>\n",
    " -->"
   ]
  },
  {
   "cell_type": "markdown",
   "metadata": {},
   "source": [
    "<hr>"
   ]
  },
  {
   "cell_type": "markdown",
   "metadata": {},
   "source": [
    "Use : ``` ! conda install pandas numpy matplotlib ```\n",
    "\n",
    "Don't use : ``` ! pip install pandas numpy matplotlib ```"
   ]
  },
  {
   "cell_type": "code",
   "execution_count": 1,
   "metadata": {},
   "outputs": [],
   "source": [
    "import pandas as pd\n",
    "import numpy as np\n",
    "import matplotlib.pyplot as plt"
   ]
  },
  {
   "cell_type": "markdown",
   "metadata": {},
   "source": [
    "# Import Data \n",
    "- Flat files, e.g..txts,.csvs\n",
    "- Files from other software\n",
    "- Relational databases"
   ]
  },
  {
   "cell_type": "markdown",
   "metadata": {},
   "source": [
    "## Read Txt file : "
   ]
  },
  {
   "cell_type": "code",
   "execution_count": 2,
   "metadata": {},
   "outputs": [
    {
     "name": "stdout",
     "output_type": "stream",
     "text": [
      "This eBook is for the use of anyone anywhere in the United States and\n",
      "most other parts of the world at no cost and with almost no restrictions\n",
      "whatsoever.\n",
      "\n",
      "Title: The Great Gatsby\n",
      "\n",
      "Author: F. Scott Fitzgerald\n",
      "\n",
      "Release Date: January 17, 2021 [eBook #64317]\n",
      "[Most recently updated: January 24 2021]\n",
      "\n",
      "Language: English\n",
      "\n",
      "Character set encoding: UTF-8\n",
      "\n",
      "Produced by: Alex Cabal for the Standard Ebooks project, based on a\n",
      "             transcription produced for Project Gutenberg Australia.\n",
      "\n"
     ]
    }
   ],
   "source": [
    "filename = 'The_Great_Gatsby.txt'\n",
    "file = open(filename , mode='r') # 'r' is for read\n",
    "text = file.read()\n",
    "file.close()\n",
    "print(text)"
   ]
  },
  {
   "cell_type": "markdown",
   "metadata": {},
   "source": [
    "## Read Text file [ use Context manager ]\n",
    "- To avoid having close the connection to the file use Context manager"
   ]
  },
  {
   "cell_type": "markdown",
   "metadata": {},
   "source": [
    "<hr />\n",
    "<font color=orange size=5>Golden Hint</font>\n",
    "\n",
    "use ```dir(your_object)``` to see list of built in methods of your object. \n",
    "\n",
    "<font color=green>e.g :</font>\n",
    "\n",
    "```with open(filename , mode='r') as file:```\n",
    "\n",
    "&emsp;&emsp;```print(dir(file)) ```\n",
    "\n",
    "<hr />"
   ]
  },
  {
   "cell_type": "markdown",
   "metadata": {},
   "source": [
    "<hr />\n",
    "<font color=red size=5 id=\"t1\"> Task 1 :</font>\n",
    "\n",
    "Fill below code by using ```print(file.readline())``` or ```print(file.read())``` or ```print(file.readlines())``` to read first 5 line"
   ]
  },
  {
   "cell_type": "code",
   "execution_count": null,
   "metadata": {},
   "outputs": [],
   "source": [
    "with open(filename , mode='r') as file:\n",
    "    ..."
   ]
  },
  {
   "cell_type": "markdown",
   "metadata": {},
   "source": [
    "<hr />\n",
    "<font color=red size=5 id=\"t2\"> Task 2 :</font>\n",
    "\n",
    "Fill below code by using ```.split()``` built in method to split each line to words"
   ]
  },
  {
   "cell_type": "code",
   "execution_count": null,
   "metadata": {},
   "outputs": [],
   "source": [
    "with open(filename , mode='r') as file:\n",
    "    lines = file.readlines()\n",
    "    print(f\"text file contain {len(lines)} lines \\n\\n\")\n",
    "    \n",
    "    for ... in ... :\n",
    "        ..."
   ]
  },
  {
   "cell_type": "markdown",
   "metadata": {},
   "source": [
    "<hr />"
   ]
  },
  {
   "cell_type": "markdown",
   "metadata": {},
   "source": [
    "## Flat file\n",
    "- is a basic text file containing records, that is table data , without structured relationships."
   ]
  },
  {
   "cell_type": "markdown",
   "metadata": {},
   "source": [
    "#### import flat files by numpy"
   ]
  },
  {
   "cell_type": "markdown",
   "metadata": {},
   "source": [
    "``` np.loadtxt(filename,delimiter='\\t',skiprows=1) ```\n",
    "\n",
    "``` np.recfromcsv(filename,delimiter=',') ```\n",
    "\n",
    "``` np.genfromtxt(filename,delimiter=',',names=True,dtype=None) ```"
   ]
  },
  {
   "cell_type": "markdown",
   "metadata": {},
   "source": [
    "#### import flat files by pandas"
   ]
  },
  {
   "cell_type": "code",
   "execution_count": 3,
   "metadata": {
    "scrolled": true
   },
   "outputs": [
    {
     "data": {
      "text/html": [
       "<div>\n",
       "<style scoped>\n",
       "    .dataframe tbody tr th:only-of-type {\n",
       "        vertical-align: middle;\n",
       "    }\n",
       "\n",
       "    .dataframe tbody tr th {\n",
       "        vertical-align: top;\n",
       "    }\n",
       "\n",
       "    .dataframe thead th {\n",
       "        text-align: right;\n",
       "    }\n",
       "</style>\n",
       "<table border=\"1\" class=\"dataframe\">\n",
       "  <thead>\n",
       "    <tr style=\"text-align: right;\">\n",
       "      <th></th>\n",
       "      <th>country</th>\n",
       "      <th>iso_code</th>\n",
       "      <th>date</th>\n",
       "      <th>total_vaccinations</th>\n",
       "      <th>people_vaccinated</th>\n",
       "      <th>people_fully_vaccinated</th>\n",
       "      <th>daily_vaccinations_raw</th>\n",
       "      <th>daily_vaccinations</th>\n",
       "      <th>total_vaccinations_per_hundred</th>\n",
       "      <th>people_vaccinated_per_hundred</th>\n",
       "      <th>people_fully_vaccinated_per_hundred</th>\n",
       "      <th>daily_vaccinations_per_million</th>\n",
       "      <th>vaccines</th>\n",
       "      <th>source_name</th>\n",
       "      <th>source_website</th>\n",
       "    </tr>\n",
       "  </thead>\n",
       "  <tbody>\n",
       "    <tr>\n",
       "      <th>19243</th>\n",
       "      <td>Iran</td>\n",
       "      <td>IRN</td>\n",
       "      <td>2021-02-08</td>\n",
       "      <td>0.0</td>\n",
       "      <td>0.0</td>\n",
       "      <td>NaN</td>\n",
       "      <td>NaN</td>\n",
       "      <td>NaN</td>\n",
       "      <td>0.0</td>\n",
       "      <td>0.0</td>\n",
       "      <td>NaN</td>\n",
       "      <td>NaN</td>\n",
       "      <td>COVIran Barekat, Covaxin, Oxford/AstraZeneca, ...</td>\n",
       "      <td>World Health Organization</td>\n",
       "      <td>https://covid19.who.int/</td>\n",
       "    </tr>\n",
       "  </tbody>\n",
       "</table>\n",
       "</div>"
      ],
      "text/plain": [
       "      country iso_code        date  total_vaccinations  people_vaccinated  \\\n",
       "19243    Iran      IRN  2021-02-08                 0.0                0.0   \n",
       "\n",
       "       people_fully_vaccinated  daily_vaccinations_raw  daily_vaccinations  \\\n",
       "19243                      NaN                     NaN                 NaN   \n",
       "\n",
       "       total_vaccinations_per_hundred  people_vaccinated_per_hundred  \\\n",
       "19243                             0.0                            0.0   \n",
       "\n",
       "       people_fully_vaccinated_per_hundred  daily_vaccinations_per_million  \\\n",
       "19243                                  NaN                             NaN   \n",
       "\n",
       "                                                vaccines  \\\n",
       "19243  COVIran Barekat, Covaxin, Oxford/AstraZeneca, ...   \n",
       "\n",
       "                     source_name            source_website  \n",
       "19243  World Health Organization  https://covid19.who.int/  "
      ]
     },
     "execution_count": 3,
     "metadata": {},
     "output_type": "execute_result"
    }
   ],
   "source": [
    "filename = 'country_vaccinations.csv'\n",
    "data = pd.read_csv(filename)\n",
    "ir = data[data['country']=='Iran']\n",
    "ir.head(1)"
   ]
  },
  {
   "cell_type": "markdown",
   "metadata": {},
   "source": [
    "### split date column :"
   ]
  },
  {
   "cell_type": "code",
   "execution_count": 4,
   "metadata": {},
   "outputs": [
    {
     "data": {
      "text/html": [
       "<div>\n",
       "<style scoped>\n",
       "    .dataframe tbody tr th:only-of-type {\n",
       "        vertical-align: middle;\n",
       "    }\n",
       "\n",
       "    .dataframe tbody tr th {\n",
       "        vertical-align: top;\n",
       "    }\n",
       "\n",
       "    .dataframe thead th {\n",
       "        text-align: right;\n",
       "    }\n",
       "</style>\n",
       "<table border=\"1\" class=\"dataframe\">\n",
       "  <thead>\n",
       "    <tr style=\"text-align: right;\">\n",
       "      <th></th>\n",
       "      <th>country</th>\n",
       "      <th>iso_code</th>\n",
       "      <th>date</th>\n",
       "      <th>total_vaccinations</th>\n",
       "      <th>people_vaccinated</th>\n",
       "      <th>people_fully_vaccinated</th>\n",
       "      <th>daily_vaccinations_raw</th>\n",
       "      <th>daily_vaccinations</th>\n",
       "      <th>total_vaccinations_per_hundred</th>\n",
       "      <th>people_vaccinated_per_hundred</th>\n",
       "      <th>people_fully_vaccinated_per_hundred</th>\n",
       "      <th>daily_vaccinations_per_million</th>\n",
       "      <th>vaccines</th>\n",
       "      <th>source_name</th>\n",
       "      <th>source_website</th>\n",
       "      <th>month</th>\n",
       "    </tr>\n",
       "  </thead>\n",
       "  <tbody>\n",
       "    <tr>\n",
       "      <th>0</th>\n",
       "      <td>Afghanistan</td>\n",
       "      <td>AFG</td>\n",
       "      <td>2021-02-22</td>\n",
       "      <td>0.0</td>\n",
       "      <td>0.0</td>\n",
       "      <td>NaN</td>\n",
       "      <td>NaN</td>\n",
       "      <td>NaN</td>\n",
       "      <td>0.0</td>\n",
       "      <td>0.0</td>\n",
       "      <td>NaN</td>\n",
       "      <td>NaN</td>\n",
       "      <td>Johnson&amp;Johnson, Oxford/AstraZeneca, Pfizer/Bi...</td>\n",
       "      <td>World Health Organization</td>\n",
       "      <td>https://app.powerbi.com/view?r=eyJrIjoiYTkyM2V...</td>\n",
       "      <td>02</td>\n",
       "    </tr>\n",
       "  </tbody>\n",
       "</table>\n",
       "</div>"
      ],
      "text/plain": [
       "       country iso_code        date  total_vaccinations  people_vaccinated  \\\n",
       "0  Afghanistan      AFG  2021-02-22                 0.0                0.0   \n",
       "\n",
       "   people_fully_vaccinated  daily_vaccinations_raw  daily_vaccinations  \\\n",
       "0                      NaN                     NaN                 NaN   \n",
       "\n",
       "   total_vaccinations_per_hundred  people_vaccinated_per_hundred  \\\n",
       "0                             0.0                            0.0   \n",
       "\n",
       "   people_fully_vaccinated_per_hundred  daily_vaccinations_per_million  \\\n",
       "0                                  NaN                             NaN   \n",
       "\n",
       "                                            vaccines  \\\n",
       "0  Johnson&Johnson, Oxford/AstraZeneca, Pfizer/Bi...   \n",
       "\n",
       "                 source_name  \\\n",
       "0  World Health Organization   \n",
       "\n",
       "                                      source_website month  \n",
       "0  https://app.powerbi.com/view?r=eyJrIjoiYTkyM2V...    02  "
      ]
     },
     "execution_count": 4,
     "metadata": {},
     "output_type": "execute_result"
    }
   ],
   "source": [
    "data['month'] = data['date'].str.split('-',expand=True)[1]\n",
    "data.head(1)"
   ]
  },
  {
   "cell_type": "markdown",
   "metadata": {},
   "source": [
    "### filter data : \n",
    "\n",
    "> by using `dir(data)` we can find some useful methods :\n",
    "> - loc\n",
    "> - iloc\n",
    "> - where\n",
    "> - filter\n",
    "> - query\n",
    "> - take\n",
    "> - tail\n",
    "> - head\n",
    "> - sample\n",
    "> - pop\n",
    "> - nlargest\n",
    "> - get\n",
    "\n",
    "\n",
    "<font color=green>e.g :</font>\n",
    "\n",
    "``` data.sample(4).iloc[:,6:10] ```\n",
    "\n",
    "``` data.filter(items=['country', 'date']).head(10).tail(3) ```\n",
    "\n",
    "``` data.loc[1200:1500,['country','month']] ```\n",
    "\n",
    "``` data.where(data['country']=='Anguilla') ```\n",
    "\n",
    "``` data[(data['country']=='Anguilla') & (data['month']=='07')] ```"
   ]
  },
  {
   "cell_type": "markdown",
   "metadata": {},
   "source": [
    "<hr />\n",
    "<font color=red size=5 id=\"t3\"> Task 3 :</font>\n",
    "\n",
    "Filter data by below conditions : \n",
    "- source_name  : World Health Organization\n",
    "- country      : Iran or Iraq\n",
    "- month        > 05"
   ]
  },
  {
   "cell_type": "code",
   "execution_count": null,
   "metadata": {},
   "outputs": [],
   "source": [
    "data[ (_____) & ((_____) | (_____)) & (______) ]"
   ]
  },
  {
   "cell_type": "markdown",
   "metadata": {},
   "source": [
    "<hr>"
   ]
  },
  {
   "cell_type": "markdown",
   "metadata": {},
   "source": [
    "### Grouping data :\n",
    "> by using `dir(data)` we can find some useful methods :\n",
    "> - pivot_table\n",
    "> - pivot\n",
    "> - groupby\n",
    "\n",
    "> - agg\n",
    "> - aggregate\n",
    "> - min\n",
    "> - max\n",
    "> - sum\n",
    "> - count"
   ]
  },
  {
   "cell_type": "code",
   "execution_count": 5,
   "metadata": {},
   "outputs": [
    {
     "data": {
      "text/html": [
       "<div>\n",
       "<style scoped>\n",
       "    .dataframe tbody tr th:only-of-type {\n",
       "        vertical-align: middle;\n",
       "    }\n",
       "\n",
       "    .dataframe tbody tr th {\n",
       "        vertical-align: top;\n",
       "    }\n",
       "\n",
       "    .dataframe thead th {\n",
       "        text-align: right;\n",
       "    }\n",
       "</style>\n",
       "<table border=\"1\" class=\"dataframe\">\n",
       "  <thead>\n",
       "    <tr style=\"text-align: right;\">\n",
       "      <th></th>\n",
       "      <th>iso_code</th>\n",
       "      <th>date</th>\n",
       "      <th>total_vaccinations</th>\n",
       "      <th>people_vaccinated</th>\n",
       "      <th>people_fully_vaccinated</th>\n",
       "      <th>daily_vaccinations_raw</th>\n",
       "      <th>daily_vaccinations</th>\n",
       "      <th>total_vaccinations_per_hundred</th>\n",
       "      <th>people_vaccinated_per_hundred</th>\n",
       "      <th>people_fully_vaccinated_per_hundred</th>\n",
       "      <th>daily_vaccinations_per_million</th>\n",
       "      <th>vaccines</th>\n",
       "      <th>source_name</th>\n",
       "      <th>source_website</th>\n",
       "      <th>month</th>\n",
       "    </tr>\n",
       "    <tr>\n",
       "      <th>country</th>\n",
       "      <th></th>\n",
       "      <th></th>\n",
       "      <th></th>\n",
       "      <th></th>\n",
       "      <th></th>\n",
       "      <th></th>\n",
       "      <th></th>\n",
       "      <th></th>\n",
       "      <th></th>\n",
       "      <th></th>\n",
       "      <th></th>\n",
       "      <th></th>\n",
       "      <th></th>\n",
       "      <th></th>\n",
       "      <th></th>\n",
       "    </tr>\n",
       "  </thead>\n",
       "  <tbody>\n",
       "    <tr>\n",
       "      <th>Afghanistan</th>\n",
       "      <td>AFG</td>\n",
       "      <td>2021-09-16</td>\n",
       "      <td>3133227.0</td>\n",
       "      <td>773002.0</td>\n",
       "      <td>430744.0</td>\n",
       "      <td>4015.0</td>\n",
       "      <td>72098.0</td>\n",
       "      <td>7.87</td>\n",
       "      <td>1.94</td>\n",
       "      <td>1.08</td>\n",
       "      <td>1810.0</td>\n",
       "      <td>Johnson&amp;Johnson, Oxford/AstraZeneca, Pfizer/Bi...</td>\n",
       "      <td>World Health Organization</td>\n",
       "      <td>https://app.powerbi.com/view?r=eyJrIjoiYTkyM2V...</td>\n",
       "      <td>09</td>\n",
       "    </tr>\n",
       "    <tr>\n",
       "      <th>Albania</th>\n",
       "      <td>ALB</td>\n",
       "      <td>2021-09-19</td>\n",
       "      <td>1649884.0</td>\n",
       "      <td>918307.0</td>\n",
       "      <td>731577.0</td>\n",
       "      <td>23655.0</td>\n",
       "      <td>17565.0</td>\n",
       "      <td>57.43</td>\n",
       "      <td>31.96</td>\n",
       "      <td>25.46</td>\n",
       "      <td>6114.0</td>\n",
       "      <td>Oxford/AstraZeneca, Pfizer/BioNTech, Sinovac, ...</td>\n",
       "      <td>Ministry of Health</td>\n",
       "      <td>https://shendetesia.gov.al/vaksinimi-anticovid...</td>\n",
       "      <td>09</td>\n",
       "    </tr>\n",
       "  </tbody>\n",
       "</table>\n",
       "</div>"
      ],
      "text/plain": [
       "            iso_code        date  total_vaccinations  people_vaccinated  \\\n",
       "country                                                                   \n",
       "Afghanistan      AFG  2021-09-16           3133227.0           773002.0   \n",
       "Albania          ALB  2021-09-19           1649884.0           918307.0   \n",
       "\n",
       "             people_fully_vaccinated  daily_vaccinations_raw  \\\n",
       "country                                                        \n",
       "Afghanistan                 430744.0                  4015.0   \n",
       "Albania                     731577.0                 23655.0   \n",
       "\n",
       "             daily_vaccinations  total_vaccinations_per_hundred  \\\n",
       "country                                                           \n",
       "Afghanistan             72098.0                            7.87   \n",
       "Albania                 17565.0                           57.43   \n",
       "\n",
       "             people_vaccinated_per_hundred  \\\n",
       "country                                      \n",
       "Afghanistan                           1.94   \n",
       "Albania                              31.96   \n",
       "\n",
       "             people_fully_vaccinated_per_hundred  \\\n",
       "country                                            \n",
       "Afghanistan                                 1.08   \n",
       "Albania                                    25.46   \n",
       "\n",
       "             daily_vaccinations_per_million  \\\n",
       "country                                       \n",
       "Afghanistan                          1810.0   \n",
       "Albania                              6114.0   \n",
       "\n",
       "                                                      vaccines  \\\n",
       "country                                                          \n",
       "Afghanistan  Johnson&Johnson, Oxford/AstraZeneca, Pfizer/Bi...   \n",
       "Albania      Oxford/AstraZeneca, Pfizer/BioNTech, Sinovac, ...   \n",
       "\n",
       "                           source_name  \\\n",
       "country                                  \n",
       "Afghanistan  World Health Organization   \n",
       "Albania             Ministry of Health   \n",
       "\n",
       "                                                source_website month  \n",
       "country                                                               \n",
       "Afghanistan  https://app.powerbi.com/view?r=eyJrIjoiYTkyM2V...    09  \n",
       "Albania      https://shendetesia.gov.al/vaksinimi-anticovid...    09  "
      ]
     },
     "execution_count": 5,
     "metadata": {},
     "output_type": "execute_result"
    }
   ],
   "source": [
    "data.groupby('country').max().head(2)"
   ]
  },
  {
   "cell_type": "markdown",
   "metadata": {},
   "source": [
    "<hr>"
   ]
  },
  {
   "cell_type": "markdown",
   "metadata": {},
   "source": [
    "## working with Log files :"
   ]
  },
  {
   "cell_type": "markdown",
   "metadata": {},
   "source": [
    "### Take a loke at first line :"
   ]
  },
  {
   "cell_type": "code",
   "execution_count": 6,
   "metadata": {},
   "outputs": [
    {
     "name": "stdout",
     "output_type": "stream",
     "text": [
      "199.72.81.55 - - [01/Jul/1995:00:00:01 -0400] \"GET /history/apollo/ HTTP/1.0\" 200 6245\n",
      "\n"
     ]
    }
   ],
   "source": [
    "filename = 'web.log'\n",
    "with open(filename , mode='r') as file:\n",
    "    print(file.readline())"
   ]
  },
  {
   "cell_type": "markdown",
   "metadata": {},
   "source": [
    "<hr >\n",
    "\n",
    "<font size=3 color=purple> Is there any specific seperator between columns ? </font>\n",
    "\n",
    "<font size=3 color=purple> Can we use `pd.read_csv` with '&nbsp;&nbsp;' seperator ? </font>\n",
    "\n",
    "<font size=3 color=purple> Lets try  : </font>"
   ]
  },
  {
   "cell_type": "code",
   "execution_count": 7,
   "metadata": {},
   "outputs": [
    {
     "data": {
      "text/html": [
       "<div>\n",
       "<style scoped>\n",
       "    .dataframe tbody tr th:only-of-type {\n",
       "        vertical-align: middle;\n",
       "    }\n",
       "\n",
       "    .dataframe tbody tr th {\n",
       "        vertical-align: top;\n",
       "    }\n",
       "\n",
       "    .dataframe thead th {\n",
       "        text-align: right;\n",
       "    }\n",
       "</style>\n",
       "<table border=\"1\" class=\"dataframe\">\n",
       "  <thead>\n",
       "    <tr style=\"text-align: right;\">\n",
       "      <th></th>\n",
       "      <th></th>\n",
       "      <th></th>\n",
       "      <th>host</th>\n",
       "      <th>timestamp</th>\n",
       "      <th>method</th>\n",
       "      <th>status</th>\n",
       "      <th>content</th>\n",
       "    </tr>\n",
       "  </thead>\n",
       "  <tbody>\n",
       "    <tr>\n",
       "      <th>199.72.81.55</th>\n",
       "      <th>-</th>\n",
       "      <th>-</th>\n",
       "      <td>[01/Jul/1995:00:00:01</td>\n",
       "      <td>-0400]</td>\n",
       "      <td>GET /history/apollo/ HTTP/1.0</td>\n",
       "      <td>200</td>\n",
       "      <td>6245</td>\n",
       "    </tr>\n",
       "  </tbody>\n",
       "</table>\n",
       "</div>"
      ],
      "text/plain": [
       "                                   host timestamp  \\\n",
       "199.72.81.55 - -  [01/Jul/1995:00:00:01    -0400]   \n",
       "\n",
       "                                         method  status  content  \n",
       "199.72.81.55 - -  GET /history/apollo/ HTTP/1.0     200     6245  "
      ]
     },
     "execution_count": 7,
     "metadata": {},
     "output_type": "execute_result"
    }
   ],
   "source": [
    "web_log = pd.read_csv( \n",
    "    'web.log', \n",
    "    sep=' ', \n",
    "    encoding='latin-1', \n",
    "    header=None, \n",
    "    names=['host', 'timestamp','method','status','content'] \n",
    ")\n",
    "\n",
    "web_log.head(1)"
   ]
  },
  {
   "cell_type": "markdown",
   "metadata": {},
   "source": [
    "<hr />\n",
    "\n",
    "<font color=red size=5 id=\"t4\"> Task 4 :</font>\n",
    "\n",
    "\n",
    "### Is there any  problem ? if yes describe the reason .\n",
    "<!-- > there are several seperators , but there is some pattern -->\n",
    "<!-- > so we use <font color=red>Regex</font> -->\n"
   ]
  },
  {
   "cell_type": "markdown",
   "metadata": {},
   "source": [
    " . \n",
    " .\n",
    " ."
   ]
  },
  {
   "cell_type": "markdown",
   "metadata": {},
   "source": [
    "<hr>"
   ]
  },
  {
   "cell_type": "code",
   "execution_count": 8,
   "metadata": {},
   "outputs": [
    {
     "name": "stdout",
     "output_type": "stream",
     "text": [
      "199.72.81.55 \n",
      "unicomp6.unicomp.net \n",
      "199.120.110.21 \n",
      "burger.letters.com \n",
      "199.120.110.21 \n"
     ]
    }
   ],
   "source": [
    "import re\n",
    " \n",
    "log_file_path = r\"web.log\"\n",
    "host_pattern  = r'(^\\S+\\.[\\S+\\.]+\\S+)\\s'\n",
    "\n",
    "with open(log_file_path, \"r\") as file:\n",
    "    for line in file:\n",
    "        print([match for match in re.finditer(host_pattern, line, re.S)][0][0])"
   ]
  },
  {
   "cell_type": "markdown",
   "metadata": {},
   "source": [
    "# Data cleaning :\n",
    "> by using `dir(data)` we can find some useful methods :\n",
    "> - .all()\n",
    "> - .any()\n",
    "> - .drop()\n",
    "> - .drop_duplicates()\n",
    "> - .dropna()\n",
    "> - .fillna()\n",
    "> - .isna()\n",
    "> - .isnull()\n",
    "> - .notna()\n",
    "> - .notnull()"
   ]
  },
  {
   "cell_type": "markdown",
   "metadata": {},
   "source": [
    "<hr />\n",
    "<font color=red size=5 id=\"t5\"> Task 5 :</font>\n",
    "\n",
    "Fill below code by peeking upper method list to clean `data` and strore that in new variable called `clean_data`\n",
    "- remove duplicated data\n",
    "- remove missing values"
   ]
  },
  {
   "cell_type": "code",
   "execution_count": null,
   "metadata": {},
   "outputs": [],
   "source": [
    "clean_data = data._______().______()"
   ]
  },
  {
   "cell_type": "markdown",
   "metadata": {},
   "source": [
    "which columns of `data` has missing value ?\n",
    "> Hint :\n",
    "> use `isna()` method to find each cell is missed ? and after use `.any(axis= )` to reduce dimention and at the end use `.sum()` to count True values (True:1 , False:0) .\n",
    "> - axis=1 is for rows\n",
    "> - axis=0 is for columns"
   ]
  },
  {
   "cell_type": "code",
   "execution_count": null,
   "metadata": {},
   "outputs": [],
   "source": [
    "data._____()._____(axis=0)._____()"
   ]
  },
  {
   "cell_type": "markdown",
   "metadata": {},
   "source": [
    "<hr />"
   ]
  },
  {
   "cell_type": "markdown",
   "metadata": {},
   "source": [
    "# Data statistics :\n",
    "> by using `dir(data)` we can find some useful methods :\n",
    "> - .describe()\n",
    "> - .dtypes()\n",
    "> - .info()\n",
    "\n",
    "\n",
    "> - .count()\n",
    "> - .corr()\n",
    "> - .corrwith()\n",
    "> - .cov()\n",
    "> - .idxmax()\n",
    "> - .idxmin()\n",
    "> - .max()\n",
    "> - .mean()\n",
    "> - .median()\n",
    "> - .min()\n",
    "> - .mode()\n",
    "> - .std()\n",
    "> - .quantile()\n",
    "> - .skew()"
   ]
  },
  {
   "cell_type": "markdown",
   "metadata": {},
   "source": [
    "<hr />\n",
    "<font color=red size=5 id=\"t6\"> Task 6 :</font>\n",
    "\n",
    "report statistics on `data` columns"
   ]
  },
  {
   "cell_type": "code",
   "execution_count": null,
   "metadata": {},
   "outputs": [],
   "source": [
    "data.________()"
   ]
  },
  {
   "cell_type": "markdown",
   "metadata": {},
   "source": [
    "<hr>"
   ]
  },
  {
   "cell_type": "markdown",
   "metadata": {},
   "source": [
    "# Data manipulation :\n",
    "> by using `dir(data)` we can find some useful methods :\n",
    "> - .merge()\n",
    "> - .concat()"
   ]
  },
  {
   "cell_type": "markdown",
   "metadata": {},
   "source": [
    "<hr />\n",
    "<font color=red size=5 id=\"t7\"> Task 7 :</font>\n",
    "\n",
    "fill below code to merge Iran vs Iraq on date"
   ]
  },
  {
   "cell_type": "code",
   "execution_count": null,
   "metadata": {},
   "outputs": [],
   "source": [
    "ir = data[data['country']=='Iran'][['country','date','daily_vaccinations_per_million']].copy()\n",
    "iq = data[data['country']=='Iraq'][['country','date','daily_vaccinations_per_million']].copy()\n",
    "\n",
    "pd.merge(____ , _____, on='date' ,how='inner',suffixes=('_ir', '_iq'))"
   ]
  },
  {
   "cell_type": "markdown",
   "metadata": {},
   "source": [
    "<hr>"
   ]
  },
  {
   "cell_type": "markdown",
   "metadata": {},
   "source": [
    "# Data visualization :\n",
    "> by using `dir(data)` we can find some useful methods :\n",
    "> - .plot()\n",
    "> - .hist()\n",
    "> - .boxplot()"
   ]
  },
  {
   "cell_type": "markdown",
   "metadata": {},
   "source": [
    "<hr />\n",
    "<font color=red size=5 id=\"t8\"> Task 8 :</font>\n",
    "\n",
    "Fill below code by a numeric column"
   ]
  },
  {
   "cell_type": "code",
   "execution_count": null,
   "metadata": {},
   "outputs": [],
   "source": [
    "data.groupby('country').sum()['_________'].plot();"
   ]
  },
  {
   "cell_type": "code",
   "execution_count": null,
   "metadata": {},
   "outputs": [],
   "source": [
    "data[data['country']=='Jersey'].loc[:,['date','people_vaccinated']].hist();"
   ]
  },
  {
   "cell_type": "markdown",
   "metadata": {},
   "source": [
    "<hr>\n",
    "<font size=3 color=purple> you can also use matplotlib to for abow plots</font>"
   ]
  },
  {
   "cell_type": "code",
   "execution_count": 9,
   "metadata": {},
   "outputs": [
    {
     "data": {
      "image/png": "[encoded data removed]",
      "text/plain": [
       "<Figure size 1296x432 with 1 Axes>"
      ]
     },
     "metadata": {
      "needs_background": "light"
     },
     "output_type": "display_data"
    }
   ],
   "source": [
    "Lebanon = data[(data['country']=='Lebanon') & (data['date']> '2021-03-15') & (data['date'] < '2021-04-15')]\n",
    "Lebanon = Lebanon.loc[:,['date','daily_vaccinations']]\n",
    "plt.figure(figsize=[18,6])\n",
    "plt.plot(Lebanon['date'].str[5:],Lebanon['daily_vaccinations'])\n",
    "plt.title(\"Lebanon daily covid vaccinations from 3-16 to 4-14 of 2021\")\n",
    "plt.xlabel('date')\n",
    "plt.ylabel('vaccine doses')\n",
    "plt.xticks(rotation=45);"
   ]
  },
  {
   "cell_type": "markdown",
   "metadata": {},
   "source": [
    "<hr>\n",
    "<hr>\n",
    "<font size=4 color=lightblue>$Keep$ $faith$  $in$  $yourself$  $and$  $trust$  $the$  $process$  $...$</font>"
   ]
  }
 ],
 "metadata": {
  "kernelspec": {
   "display_name": "Python 3",
   "language": "python",
   "name": "python3"
  },
  "language_info": {
   "codemirror_mode": {
    "name": "ipython",
    "version": 3
   },
   "file_extension": ".py",
   "mimetype": "text/x-python",
   "name": "python",
   "nbconvert_exporter": "python",
   "pygments_lexer": "ipython3",
   "version": "3.8.3"
  }
 },
 "nbformat": 4,
 "nbformat_minor": 2
}

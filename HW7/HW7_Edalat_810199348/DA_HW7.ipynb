{
  "nbformat": 4,
  "nbformat_minor": 0,
  "metadata": {
    "colab": {
      "name": "DA_HW7.ipynb",
      "provenance": [],
      "collapsed_sections": []
    },
    "kernelspec": {
      "name": "python3",
      "display_name": "Python 3"
    },
    "language_info": {
      "name": "python"
    }
  },
  "cells": [
    {
      "cell_type": "code",
      "execution_count": 1,
      "metadata": {
        "id": "rPySbIupyIp0"
      },
      "outputs": [],
      "source": [
        "import pandas as pd\n",
        "import numpy as np\n",
        "import matplotlib.pyplot as plt"
      ]
    },
    {
      "cell_type": "code",
      "source": [
        "df = pd.read_csv('Customers_intention.csv')\n",
        "df.head()"
      ],
      "metadata": {
        "colab": {
          "base_uri": "https://localhost:8080/",
          "height": 270
        },
        "id": "G9FNeRZ1ypxI",
        "outputId": "af4fd43c-ba54-4679-b983-0615c0a13ff0"
      },
      "execution_count": 2,
      "outputs": [
        {
          "output_type": "execute_result",
          "data": {
            "text/html": [
              "\n",
              "  <div id=\"df-00878758-8080-4f7f-bcc7-50f25408b2a9\">\n",
              "    <div class=\"colab-df-container\">\n",
              "      <div>\n",
              "<style scoped>\n",
              "    .dataframe tbody tr th:only-of-type {\n",
              "        vertical-align: middle;\n",
              "    }\n",
              "\n",
              "    .dataframe tbody tr th {\n",
              "        vertical-align: top;\n",
              "    }\n",
              "\n",
              "    .dataframe thead th {\n",
              "        text-align: right;\n",
              "    }\n",
              "</style>\n",
              "<table border=\"1\" class=\"dataframe\">\n",
              "  <thead>\n",
              "    <tr style=\"text-align: right;\">\n",
              "      <th></th>\n",
              "      <th>Administrative</th>\n",
              "      <th>Administrative_Duration</th>\n",
              "      <th>Informational</th>\n",
              "      <th>Informational_Duration</th>\n",
              "      <th>ProductRelated</th>\n",
              "      <th>ProductRelated_Duration</th>\n",
              "      <th>BounceRates</th>\n",
              "      <th>ExitRates</th>\n",
              "      <th>PageValues</th>\n",
              "      <th>SpecialDay</th>\n",
              "      <th>Month</th>\n",
              "      <th>OperatingSystems</th>\n",
              "      <th>Browser</th>\n",
              "      <th>Region</th>\n",
              "      <th>TrafficType</th>\n",
              "      <th>VisitorType</th>\n",
              "      <th>Weekend</th>\n",
              "      <th>Revenue</th>\n",
              "    </tr>\n",
              "  </thead>\n",
              "  <tbody>\n",
              "    <tr>\n",
              "      <th>0</th>\n",
              "      <td>0</td>\n",
              "      <td>0.0</td>\n",
              "      <td>0</td>\n",
              "      <td>0.0</td>\n",
              "      <td>1</td>\n",
              "      <td>0.000000</td>\n",
              "      <td>0.20</td>\n",
              "      <td>0.20</td>\n",
              "      <td>0.0</td>\n",
              "      <td>0.0</td>\n",
              "      <td>Feb</td>\n",
              "      <td>1</td>\n",
              "      <td>1</td>\n",
              "      <td>1</td>\n",
              "      <td>1</td>\n",
              "      <td>Returning_Visitor</td>\n",
              "      <td>False</td>\n",
              "      <td>False</td>\n",
              "    </tr>\n",
              "    <tr>\n",
              "      <th>1</th>\n",
              "      <td>0</td>\n",
              "      <td>0.0</td>\n",
              "      <td>0</td>\n",
              "      <td>0.0</td>\n",
              "      <td>2</td>\n",
              "      <td>64.000000</td>\n",
              "      <td>0.00</td>\n",
              "      <td>0.10</td>\n",
              "      <td>0.0</td>\n",
              "      <td>0.0</td>\n",
              "      <td>Feb</td>\n",
              "      <td>2</td>\n",
              "      <td>2</td>\n",
              "      <td>1</td>\n",
              "      <td>2</td>\n",
              "      <td>Returning_Visitor</td>\n",
              "      <td>False</td>\n",
              "      <td>False</td>\n",
              "    </tr>\n",
              "    <tr>\n",
              "      <th>2</th>\n",
              "      <td>0</td>\n",
              "      <td>0.0</td>\n",
              "      <td>0</td>\n",
              "      <td>0.0</td>\n",
              "      <td>1</td>\n",
              "      <td>0.000000</td>\n",
              "      <td>0.20</td>\n",
              "      <td>0.20</td>\n",
              "      <td>0.0</td>\n",
              "      <td>0.0</td>\n",
              "      <td>Feb</td>\n",
              "      <td>4</td>\n",
              "      <td>1</td>\n",
              "      <td>9</td>\n",
              "      <td>3</td>\n",
              "      <td>Returning_Visitor</td>\n",
              "      <td>False</td>\n",
              "      <td>False</td>\n",
              "    </tr>\n",
              "    <tr>\n",
              "      <th>3</th>\n",
              "      <td>0</td>\n",
              "      <td>0.0</td>\n",
              "      <td>0</td>\n",
              "      <td>0.0</td>\n",
              "      <td>2</td>\n",
              "      <td>2.666667</td>\n",
              "      <td>0.05</td>\n",
              "      <td>0.14</td>\n",
              "      <td>0.0</td>\n",
              "      <td>0.0</td>\n",
              "      <td>Feb</td>\n",
              "      <td>3</td>\n",
              "      <td>2</td>\n",
              "      <td>2</td>\n",
              "      <td>4</td>\n",
              "      <td>Returning_Visitor</td>\n",
              "      <td>False</td>\n",
              "      <td>False</td>\n",
              "    </tr>\n",
              "    <tr>\n",
              "      <th>4</th>\n",
              "      <td>0</td>\n",
              "      <td>0.0</td>\n",
              "      <td>0</td>\n",
              "      <td>0.0</td>\n",
              "      <td>10</td>\n",
              "      <td>627.500000</td>\n",
              "      <td>0.02</td>\n",
              "      <td>0.05</td>\n",
              "      <td>0.0</td>\n",
              "      <td>0.0</td>\n",
              "      <td>Feb</td>\n",
              "      <td>3</td>\n",
              "      <td>3</td>\n",
              "      <td>1</td>\n",
              "      <td>4</td>\n",
              "      <td>Returning_Visitor</td>\n",
              "      <td>True</td>\n",
              "      <td>False</td>\n",
              "    </tr>\n",
              "  </tbody>\n",
              "</table>\n",
              "</div>\n",
              "      <button class=\"colab-df-convert\" onclick=\"convertToInteractive('df-00878758-8080-4f7f-bcc7-50f25408b2a9')\"\n",
              "              title=\"Convert this dataframe to an interactive table.\"\n",
              "              style=\"display:none;\">\n",
              "        \n",
              "  <svg xmlns=\"http://www.w3.org/2000/svg\" height=\"24px\"viewBox=\"0 0 24 24\"\n",
              "       width=\"24px\">\n",
              "    <path d=\"M0 0h24v24H0V0z\" fill=\"none\"/>\n",
              "    <path d=\"M18.56 5.44l.94 2.06.94-2.06 2.06-.94-2.06-.94-.94-2.06-.94 2.06-2.06.94zm-11 1L8.5 8.5l.94-2.06 2.06-.94-2.06-.94L8.5 2.5l-.94 2.06-2.06.94zm10 10l.94 2.06.94-2.06 2.06-.94-2.06-.94-.94-2.06-.94 2.06-2.06.94z\"/><path d=\"M17.41 7.96l-1.37-1.37c-.4-.4-.92-.59-1.43-.59-.52 0-1.04.2-1.43.59L10.3 9.45l-7.72 7.72c-.78.78-.78 2.05 0 2.83L4 21.41c.39.39.9.59 1.41.59.51 0 1.02-.2 1.41-.59l7.78-7.78 2.81-2.81c.8-.78.8-2.07 0-2.86zM5.41 20L4 18.59l7.72-7.72 1.47 1.35L5.41 20z\"/>\n",
              "  </svg>\n",
              "      </button>\n",
              "      \n",
              "  <style>\n",
              "    .colab-df-container {\n",
              "      display:flex;\n",
              "      flex-wrap:wrap;\n",
              "      gap: 12px;\n",
              "    }\n",
              "\n",
              "    .colab-df-convert {\n",
              "      background-color: #E8F0FE;\n",
              "      border: none;\n",
              "      border-radius: 50%;\n",
              "      cursor: pointer;\n",
              "      display: none;\n",
              "      fill: #1967D2;\n",
              "      height: 32px;\n",
              "      padding: 0 0 0 0;\n",
              "      width: 32px;\n",
              "    }\n",
              "\n",
              "    .colab-df-convert:hover {\n",
              "      background-color: #E2EBFA;\n",
              "      box-shadow: 0px 1px 2px rgba(60, 64, 67, 0.3), 0px 1px 3px 1px rgba(60, 64, 67, 0.15);\n",
              "      fill: #174EA6;\n",
              "    }\n",
              "\n",
              "    [theme=dark] .colab-df-convert {\n",
              "      background-color: #3B4455;\n",
              "      fill: #D2E3FC;\n",
              "    }\n",
              "\n",
              "    [theme=dark] .colab-df-convert:hover {\n",
              "      background-color: #434B5C;\n",
              "      box-shadow: 0px 1px 3px 1px rgba(0, 0, 0, 0.15);\n",
              "      filter: drop-shadow(0px 1px 2px rgba(0, 0, 0, 0.3));\n",
              "      fill: #FFFFFF;\n",
              "    }\n",
              "  </style>\n",
              "\n",
              "      <script>\n",
              "        const buttonEl =\n",
              "          document.querySelector('#df-00878758-8080-4f7f-bcc7-50f25408b2a9 button.colab-df-convert');\n",
              "        buttonEl.style.display =\n",
              "          google.colab.kernel.accessAllowed ? 'block' : 'none';\n",
              "\n",
              "        async function convertToInteractive(key) {\n",
              "          const element = document.querySelector('#df-00878758-8080-4f7f-bcc7-50f25408b2a9');\n",
              "          const dataTable =\n",
              "            await google.colab.kernel.invokeFunction('convertToInteractive',\n",
              "                                                     [key], {});\n",
              "          if (!dataTable) return;\n",
              "\n",
              "          const docLinkHtml = 'Like what you see? Visit the ' +\n",
              "            '<a target=\"_blank\" href=https://colab.research.google.com/notebooks/data_table.ipynb>data table notebook</a>'\n",
              "            + ' to learn more about interactive tables.';\n",
              "          element.innerHTML = '';\n",
              "          dataTable['output_type'] = 'display_data';\n",
              "          await google.colab.output.renderOutput(dataTable, element);\n",
              "          const docLink = document.createElement('div');\n",
              "          docLink.innerHTML = docLinkHtml;\n",
              "          element.appendChild(docLink);\n",
              "        }\n",
              "      </script>\n",
              "    </div>\n",
              "  </div>\n",
              "  "
            ],
            "text/plain": [
              "   Administrative  Administrative_Duration  ...  Weekend  Revenue\n",
              "0               0                      0.0  ...    False    False\n",
              "1               0                      0.0  ...    False    False\n",
              "2               0                      0.0  ...    False    False\n",
              "3               0                      0.0  ...    False    False\n",
              "4               0                      0.0  ...     True    False\n",
              "\n",
              "[5 rows x 18 columns]"
            ]
          },
          "metadata": {},
          "execution_count": 2
        }
      ]
    },
    {
      "cell_type": "code",
      "source": [
        "import seaborn as sns\n",
        "\n",
        "plt.figure()\n",
        "plt.title('Number of Customers adding Revenue')\n",
        "sns.countplot(df['Revenue'])\n",
        "plt.show()"
      ],
      "metadata": {
        "colab": {
          "base_uri": "https://localhost:8080/",
          "height": 350
        },
        "id": "R74IOXdwGK4z",
        "outputId": "2fa92f19-49ec-45dd-a3aa-2b54af9a05c2"
      },
      "execution_count": 3,
      "outputs": [
        {
          "output_type": "stream",
          "name": "stderr",
          "text": [
            "/usr/local/lib/python3.7/dist-packages/seaborn/_decorators.py:43: FutureWarning: Pass the following variable as a keyword arg: x. From version 0.12, the only valid positional argument will be `data`, and passing other arguments without an explicit keyword will result in an error or misinterpretation.\n",
            "  FutureWarning\n"
          ]
        },
        {
          "output_type": "display_data",
          "data": {
            "image/png": "[encoded data removed]",
            "text/plain": [
              "<Figure size 432x288 with 1 Axes>"
            ]
          },
          "metadata": {
            "needs_background": "light"
          }
        }
      ]
    },
    {
      "cell_type": "markdown",
      "source": [
        "## find nans and clean"
      ],
      "metadata": {
        "id": "B_YIlJm6gA4_"
      }
    },
    {
      "cell_type": "code",
      "source": [
        "df.isna().sum()"
      ],
      "metadata": {
        "colab": {
          "base_uri": "https://localhost:8080/"
        },
        "id": "0lryvzAFck-H",
        "outputId": "bf1b14f9-4403-41f4-a58d-c5074d5f2b9d"
      },
      "execution_count": 4,
      "outputs": [
        {
          "output_type": "execute_result",
          "data": {
            "text/plain": [
              "Administrative             0\n",
              "Administrative_Duration    0\n",
              "Informational              0\n",
              "Informational_Duration     0\n",
              "ProductRelated             0\n",
              "ProductRelated_Duration    0\n",
              "BounceRates                0\n",
              "ExitRates                  0\n",
              "PageValues                 0\n",
              "SpecialDay                 0\n",
              "Month                      0\n",
              "OperatingSystems           0\n",
              "Browser                    0\n",
              "Region                     0\n",
              "TrafficType                0\n",
              "VisitorType                0\n",
              "Weekend                    0\n",
              "Revenue                    0\n",
              "dtype: int64"
            ]
          },
          "metadata": {},
          "execution_count": 4
        }
      ]
    },
    {
      "cell_type": "code",
      "source": [
        "df.info()"
      ],
      "metadata": {
        "id": "tOQOXzDbcqS2",
        "colab": {
          "base_uri": "https://localhost:8080/"
        },
        "outputId": "21893eca-bc94-4c13-9b85-cd11b5e0267d"
      },
      "execution_count": 5,
      "outputs": [
        {
          "output_type": "stream",
          "name": "stdout",
          "text": [
            "<class 'pandas.core.frame.DataFrame'>\n",
            "RangeIndex: 12330 entries, 0 to 12329\n",
            "Data columns (total 18 columns):\n",
            " #   Column                   Non-Null Count  Dtype  \n",
            "---  ------                   --------------  -----  \n",
            " 0   Administrative           12330 non-null  int64  \n",
            " 1   Administrative_Duration  12330 non-null  float64\n",
            " 2   Informational            12330 non-null  int64  \n",
            " 3   Informational_Duration   12330 non-null  float64\n",
            " 4   ProductRelated           12330 non-null  int64  \n",
            " 5   ProductRelated_Duration  12330 non-null  float64\n",
            " 6   BounceRates              12330 non-null  float64\n",
            " 7   ExitRates                12330 non-null  float64\n",
            " 8   PageValues               12330 non-null  float64\n",
            " 9   SpecialDay               12330 non-null  float64\n",
            " 10  Month                    12330 non-null  object \n",
            " 11  OperatingSystems         12330 non-null  int64  \n",
            " 12  Browser                  12330 non-null  int64  \n",
            " 13  Region                   12330 non-null  int64  \n",
            " 14  TrafficType              12330 non-null  int64  \n",
            " 15  VisitorType              12330 non-null  object \n",
            " 16  Weekend                  12330 non-null  bool   \n",
            " 17  Revenue                  12330 non-null  bool   \n",
            "dtypes: bool(2), float64(7), int64(7), object(2)\n",
            "memory usage: 1.5+ MB\n"
          ]
        }
      ]
    },
    {
      "cell_type": "code",
      "source": [
        "df.describe()"
      ],
      "metadata": {
        "colab": {
          "base_uri": "https://localhost:8080/",
          "height": 364
        },
        "id": "4Jl2MGwZf3ym",
        "outputId": "2c47bafb-853b-432d-c402-af6ad378926a"
      },
      "execution_count": 6,
      "outputs": [
        {
          "output_type": "execute_result",
          "data": {
            "text/html": [
              "\n",
              "  <div id=\"df-cc6ac964-8669-4729-9ba8-ecbbb3795089\">\n",
              "    <div class=\"colab-df-container\">\n",
              "      <div>\n",
              "<style scoped>\n",
              "    .dataframe tbody tr th:only-of-type {\n",
              "        vertical-align: middle;\n",
              "    }\n",
              "\n",
              "    .dataframe tbody tr th {\n",
              "        vertical-align: top;\n",
              "    }\n",
              "\n",
              "    .dataframe thead th {\n",
              "        text-align: right;\n",
              "    }\n",
              "</style>\n",
              "<table border=\"1\" class=\"dataframe\">\n",
              "  <thead>\n",
              "    <tr style=\"text-align: right;\">\n",
              "      <th></th>\n",
              "      <th>Administrative</th>\n",
              "      <th>Administrative_Duration</th>\n",
              "      <th>Informational</th>\n",
              "      <th>Informational_Duration</th>\n",
              "      <th>ProductRelated</th>\n",
              "      <th>ProductRelated_Duration</th>\n",
              "      <th>BounceRates</th>\n",
              "      <th>ExitRates</th>\n",
              "      <th>PageValues</th>\n",
              "      <th>SpecialDay</th>\n",
              "      <th>OperatingSystems</th>\n",
              "      <th>Browser</th>\n",
              "      <th>Region</th>\n",
              "      <th>TrafficType</th>\n",
              "    </tr>\n",
              "  </thead>\n",
              "  <tbody>\n",
              "    <tr>\n",
              "      <th>count</th>\n",
              "      <td>12330.000000</td>\n",
              "      <td>12330.000000</td>\n",
              "      <td>12330.000000</td>\n",
              "      <td>12330.000000</td>\n",
              "      <td>12330.000000</td>\n",
              "      <td>12330.000000</td>\n",
              "      <td>12330.000000</td>\n",
              "      <td>12330.000000</td>\n",
              "      <td>12330.000000</td>\n",
              "      <td>12330.000000</td>\n",
              "      <td>12330.000000</td>\n",
              "      <td>12330.000000</td>\n",
              "      <td>12330.000000</td>\n",
              "      <td>12330.000000</td>\n",
              "    </tr>\n",
              "    <tr>\n",
              "      <th>mean</th>\n",
              "      <td>2.315166</td>\n",
              "      <td>80.818611</td>\n",
              "      <td>0.503569</td>\n",
              "      <td>34.472398</td>\n",
              "      <td>31.731468</td>\n",
              "      <td>1194.746220</td>\n",
              "      <td>0.022191</td>\n",
              "      <td>0.043073</td>\n",
              "      <td>5.889258</td>\n",
              "      <td>0.061427</td>\n",
              "      <td>2.124006</td>\n",
              "      <td>2.357097</td>\n",
              "      <td>3.147364</td>\n",
              "      <td>4.069586</td>\n",
              "    </tr>\n",
              "    <tr>\n",
              "      <th>std</th>\n",
              "      <td>3.321784</td>\n",
              "      <td>176.779107</td>\n",
              "      <td>1.270156</td>\n",
              "      <td>140.749294</td>\n",
              "      <td>44.475503</td>\n",
              "      <td>1913.669288</td>\n",
              "      <td>0.048488</td>\n",
              "      <td>0.048597</td>\n",
              "      <td>18.568437</td>\n",
              "      <td>0.198917</td>\n",
              "      <td>0.911325</td>\n",
              "      <td>1.717277</td>\n",
              "      <td>2.401591</td>\n",
              "      <td>4.025169</td>\n",
              "    </tr>\n",
              "    <tr>\n",
              "      <th>min</th>\n",
              "      <td>0.000000</td>\n",
              "      <td>0.000000</td>\n",
              "      <td>0.000000</td>\n",
              "      <td>0.000000</td>\n",
              "      <td>0.000000</td>\n",
              "      <td>0.000000</td>\n",
              "      <td>0.000000</td>\n",
              "      <td>0.000000</td>\n",
              "      <td>0.000000</td>\n",
              "      <td>0.000000</td>\n",
              "      <td>1.000000</td>\n",
              "      <td>1.000000</td>\n",
              "      <td>1.000000</td>\n",
              "      <td>1.000000</td>\n",
              "    </tr>\n",
              "    <tr>\n",
              "      <th>25%</th>\n",
              "      <td>0.000000</td>\n",
              "      <td>0.000000</td>\n",
              "      <td>0.000000</td>\n",
              "      <td>0.000000</td>\n",
              "      <td>7.000000</td>\n",
              "      <td>184.137500</td>\n",
              "      <td>0.000000</td>\n",
              "      <td>0.014286</td>\n",
              "      <td>0.000000</td>\n",
              "      <td>0.000000</td>\n",
              "      <td>2.000000</td>\n",
              "      <td>2.000000</td>\n",
              "      <td>1.000000</td>\n",
              "      <td>2.000000</td>\n",
              "    </tr>\n",
              "    <tr>\n",
              "      <th>50%</th>\n",
              "      <td>1.000000</td>\n",
              "      <td>7.500000</td>\n",
              "      <td>0.000000</td>\n",
              "      <td>0.000000</td>\n",
              "      <td>18.000000</td>\n",
              "      <td>598.936905</td>\n",
              "      <td>0.003112</td>\n",
              "      <td>0.025156</td>\n",
              "      <td>0.000000</td>\n",
              "      <td>0.000000</td>\n",
              "      <td>2.000000</td>\n",
              "      <td>2.000000</td>\n",
              "      <td>3.000000</td>\n",
              "      <td>2.000000</td>\n",
              "    </tr>\n",
              "    <tr>\n",
              "      <th>75%</th>\n",
              "      <td>4.000000</td>\n",
              "      <td>93.256250</td>\n",
              "      <td>0.000000</td>\n",
              "      <td>0.000000</td>\n",
              "      <td>38.000000</td>\n",
              "      <td>1464.157213</td>\n",
              "      <td>0.016813</td>\n",
              "      <td>0.050000</td>\n",
              "      <td>0.000000</td>\n",
              "      <td>0.000000</td>\n",
              "      <td>3.000000</td>\n",
              "      <td>2.000000</td>\n",
              "      <td>4.000000</td>\n",
              "      <td>4.000000</td>\n",
              "    </tr>\n",
              "    <tr>\n",
              "      <th>max</th>\n",
              "      <td>27.000000</td>\n",
              "      <td>3398.750000</td>\n",
              "      <td>24.000000</td>\n",
              "      <td>2549.375000</td>\n",
              "      <td>705.000000</td>\n",
              "      <td>63973.522230</td>\n",
              "      <td>0.200000</td>\n",
              "      <td>0.200000</td>\n",
              "      <td>361.763742</td>\n",
              "      <td>1.000000</td>\n",
              "      <td>8.000000</td>\n",
              "      <td>13.000000</td>\n",
              "      <td>9.000000</td>\n",
              "      <td>20.000000</td>\n",
              "    </tr>\n",
              "  </tbody>\n",
              "</table>\n",
              "</div>\n",
              "      <button class=\"colab-df-convert\" onclick=\"convertToInteractive('df-cc6ac964-8669-4729-9ba8-ecbbb3795089')\"\n",
              "              title=\"Convert this dataframe to an interactive table.\"\n",
              "              style=\"display:none;\">\n",
              "        \n",
              "  <svg xmlns=\"http://www.w3.org/2000/svg\" height=\"24px\"viewBox=\"0 0 24 24\"\n",
              "       width=\"24px\">\n",
              "    <path d=\"M0 0h24v24H0V0z\" fill=\"none\"/>\n",
              "    <path d=\"M18.56 5.44l.94 2.06.94-2.06 2.06-.94-2.06-.94-.94-2.06-.94 2.06-2.06.94zm-11 1L8.5 8.5l.94-2.06 2.06-.94-2.06-.94L8.5 2.5l-.94 2.06-2.06.94zm10 10l.94 2.06.94-2.06 2.06-.94-2.06-.94-.94-2.06-.94 2.06-2.06.94z\"/><path d=\"M17.41 7.96l-1.37-1.37c-.4-.4-.92-.59-1.43-.59-.52 0-1.04.2-1.43.59L10.3 9.45l-7.72 7.72c-.78.78-.78 2.05 0 2.83L4 21.41c.39.39.9.59 1.41.59.51 0 1.02-.2 1.41-.59l7.78-7.78 2.81-2.81c.8-.78.8-2.07 0-2.86zM5.41 20L4 18.59l7.72-7.72 1.47 1.35L5.41 20z\"/>\n",
              "  </svg>\n",
              "      </button>\n",
              "      \n",
              "  <style>\n",
              "    .colab-df-container {\n",
              "      display:flex;\n",
              "      flex-wrap:wrap;\n",
              "      gap: 12px;\n",
              "    }\n",
              "\n",
              "    .colab-df-convert {\n",
              "      background-color: #E8F0FE;\n",
              "      border: none;\n",
              "      border-radius: 50%;\n",
              "      cursor: pointer;\n",
              "      display: none;\n",
              "      fill: #1967D2;\n",
              "      height: 32px;\n",
              "      padding: 0 0 0 0;\n",
              "      width: 32px;\n",
              "    }\n",
              "\n",
              "    .colab-df-convert:hover {\n",
              "      background-color: #E2EBFA;\n",
              "      box-shadow: 0px 1px 2px rgba(60, 64, 67, 0.3), 0px 1px 3px 1px rgba(60, 64, 67, 0.15);\n",
              "      fill: #174EA6;\n",
              "    }\n",
              "\n",
              "    [theme=dark] .colab-df-convert {\n",
              "      background-color: #3B4455;\n",
              "      fill: #D2E3FC;\n",
              "    }\n",
              "\n",
              "    [theme=dark] .colab-df-convert:hover {\n",
              "      background-color: #434B5C;\n",
              "      box-shadow: 0px 1px 3px 1px rgba(0, 0, 0, 0.15);\n",
              "      filter: drop-shadow(0px 1px 2px rgba(0, 0, 0, 0.3));\n",
              "      fill: #FFFFFF;\n",
              "    }\n",
              "  </style>\n",
              "\n",
              "      <script>\n",
              "        const buttonEl =\n",
              "          document.querySelector('#df-cc6ac964-8669-4729-9ba8-ecbbb3795089 button.colab-df-convert');\n",
              "        buttonEl.style.display =\n",
              "          google.colab.kernel.accessAllowed ? 'block' : 'none';\n",
              "\n",
              "        async function convertToInteractive(key) {\n",
              "          const element = document.querySelector('#df-cc6ac964-8669-4729-9ba8-ecbbb3795089');\n",
              "          const dataTable =\n",
              "            await google.colab.kernel.invokeFunction('convertToInteractive',\n",
              "                                                     [key], {});\n",
              "          if (!dataTable) return;\n",
              "\n",
              "          const docLinkHtml = 'Like what you see? Visit the ' +\n",
              "            '<a target=\"_blank\" href=https://colab.research.google.com/notebooks/data_table.ipynb>data table notebook</a>'\n",
              "            + ' to learn more about interactive tables.';\n",
              "          element.innerHTML = '';\n",
              "          dataTable['output_type'] = 'display_data';\n",
              "          await google.colab.output.renderOutput(dataTable, element);\n",
              "          const docLink = document.createElement('div');\n",
              "          docLink.innerHTML = docLinkHtml;\n",
              "          element.appendChild(docLink);\n",
              "        }\n",
              "      </script>\n",
              "    </div>\n",
              "  </div>\n",
              "  "
            ],
            "text/plain": [
              "       Administrative  Administrative_Duration  ...        Region   TrafficType\n",
              "count    12330.000000             12330.000000  ...  12330.000000  12330.000000\n",
              "mean         2.315166                80.818611  ...      3.147364      4.069586\n",
              "std          3.321784               176.779107  ...      2.401591      4.025169\n",
              "min          0.000000                 0.000000  ...      1.000000      1.000000\n",
              "25%          0.000000                 0.000000  ...      1.000000      2.000000\n",
              "50%          1.000000                 7.500000  ...      3.000000      2.000000\n",
              "75%          4.000000                93.256250  ...      4.000000      4.000000\n",
              "max         27.000000              3398.750000  ...      9.000000     20.000000\n",
              "\n",
              "[8 rows x 14 columns]"
            ]
          },
          "metadata": {},
          "execution_count": 6
        }
      ]
    },
    {
      "cell_type": "markdown",
      "source": [
        "- Revenue => class whether it can make a revenue or not\n",
        "- Administrative, Administrative Duration, Informational, Informational Duration, Product Related and Product Related Duration => represent the number of different types of pages visited by the visitor in that session and total time spent in each of these page categories.\n",
        "- Bounce Rate => percentage of visitors who enter the site from that page and then leave (\"bounce\") without triggering any other requests to the analytics server during that session\n",
        "- Exit Rate => the percentage that were the last in the session\n",
        "- Page Value => feature represents the average value for a web page that a user visited before completing an e-commerce transaction\n",
        "- Special Day => indicates the closeness of the site visiting time to a specific special day (e.g. Mother’s Day, Valentine's Day) in which the sessions are more likely to be finalized with transaction. For example, for Valentina’s day, this value takes a nonzero value between February 2 and February 12, zero,before and after this date unless it is close to another special day, and its maximum value of 1 on February 8\n",
        "- Operating system,browser, region, traffic type => Different types of operating systems, browser, region and traffic type used to visit the website\n",
        "- Visitor type => Whether the customer is a returning or new visitor\n",
        "- Weekend => A Boolean value indicating whether the date of the visit is weekend\n",
        "- Month => Month of the year"
      ],
      "metadata": {
        "id": "P8u5bfRIj0gw"
      }
    },
    {
      "cell_type": "markdown",
      "source": [
        "The Administration, Informational and product related features are types of pages, technically they are nominal data. So I guess we impute that data with median, Also before doing that we have the min value as 0(page type as 0 means it should be null value) should also be considered as NaN value, so we convert it into NaN value and impute it."
      ],
      "metadata": {
        "id": "TucI6MX9jz22"
      }
    },
    {
      "cell_type": "code",
      "source": [
        "for cols in ['Administrative','Informational','ProductRelated']:\n",
        "    df[cols].replace(0, np.nan, inplace= True)"
      ],
      "metadata": {
        "id": "LbqYw1rKiQoE"
      },
      "execution_count": 7,
      "outputs": []
    },
    {
      "cell_type": "markdown",
      "source": [
        "in page durations, we have 0 as the minimum value in duration (time can't be zero). occurs when the page type was 0 which we imputed earlier, so we can convert this into NaN and impute this as well.\n",
        "Here we don't need to worry about rates zeros. for example bounce rates having 0 values, as there are many such cases where bounce rates can be 0 because the user must have liked the website and moved onto other web pages towards transactions."
      ],
      "metadata": {
        "id": "9rDgm4MSlrev"
      }
    },
    {
      "cell_type": "code",
      "source": [
        "for cols in ['Administrative_Duration','Informational_Duration','ProductRelated_Duration']:\n",
        "    df[cols].replace(0, np.nan, inplace= True)"
      ],
      "metadata": {
        "id": "Z4GYw00slVKS"
      },
      "execution_count": 8,
      "outputs": []
    },
    {
      "cell_type": "code",
      "source": [
        "df.isna().sum()"
      ],
      "metadata": {
        "colab": {
          "base_uri": "https://localhost:8080/"
        },
        "id": "a9DY0MuNnJXn",
        "outputId": "47383413-680a-4eb3-8274-331f0c773870"
      },
      "execution_count": 9,
      "outputs": [
        {
          "output_type": "execute_result",
          "data": {
            "text/plain": [
              "Administrative             5768\n",
              "Administrative_Duration    5903\n",
              "Informational              9699\n",
              "Informational_Duration     9925\n",
              "ProductRelated               38\n",
              "ProductRelated_Duration     755\n",
              "BounceRates                   0\n",
              "ExitRates                     0\n",
              "PageValues                    0\n",
              "SpecialDay                    0\n",
              "Month                         0\n",
              "OperatingSystems              0\n",
              "Browser                       0\n",
              "Region                        0\n",
              "TrafficType                   0\n",
              "VisitorType                   0\n",
              "Weekend                       0\n",
              "Revenue                       0\n",
              "dtype: int64"
            ]
          },
          "metadata": {},
          "execution_count": 9
        }
      ]
    },
    {
      "cell_type": "markdown",
      "source": [
        "Let's check out our numerical feature outliers through boxplot"
      ],
      "metadata": {
        "id": "GHRvesSwvwzj"
      }
    },
    {
      "cell_type": "code",
      "source": [
        "plt.figure(figsize=(30,10))\n",
        "df.boxplot()\n",
        "plt.title('boxplots');"
      ],
      "metadata": {
        "colab": {
          "base_uri": "https://localhost:8080/",
          "height": 365
        },
        "id": "V5Y8dNX1w-YH",
        "outputId": "15129509-2d41-452a-b880-d80cc3bf8ddf"
      },
      "execution_count": 10,
      "outputs": [
        {
          "output_type": "stream",
          "name": "stderr",
          "text": [
            "/usr/local/lib/python3.7/dist-packages/numpy/core/_asarray.py:83: VisibleDeprecationWarning: Creating an ndarray from ragged nested sequences (which is a list-or-tuple of lists-or-tuples-or ndarrays with different lengths or shapes) is deprecated. If you meant to do this, you must specify 'dtype=object' when creating the ndarray\n",
            "  return array(a, dtype, copy=False, order=order)\n"
          ]
        },
        {
          "output_type": "display_data",
          "data": {
            "image/png": "[encoded data removed]",
            "text/plain": [
              "<Figure size 2160x720 with 1 Axes>"
            ]
          },
          "metadata": {
            "needs_background": "light"
          }
        }
      ]
    },
    {
      "cell_type": "markdown",
      "source": [
        "skewness"
      ],
      "metadata": {
        "id": "Ia2QiB24ztou"
      }
    },
    {
      "cell_type": "code",
      "source": [
        "df.skew()"
      ],
      "metadata": {
        "colab": {
          "base_uri": "https://localhost:8080/"
        },
        "id": "aUz_K0hHzsRn",
        "outputId": "808b7055-5b1d-468e-d83d-ce1a78dcdd6c"
      },
      "execution_count": 11,
      "outputs": [
        {
          "output_type": "execute_result",
          "data": {
            "text/plain": [
              "Administrative             1.586495\n",
              "Administrative_Duration    4.577785\n",
              "Informational              2.669395\n",
              "Informational_Duration     3.457944\n",
              "ProductRelated             4.339583\n",
              "ProductRelated_Duration    7.209611\n",
              "BounceRates                2.947855\n",
              "ExitRates                  2.148789\n",
              "PageValues                 6.382964\n",
              "SpecialDay                 3.302667\n",
              "OperatingSystems           2.066285\n",
              "Browser                    3.242350\n",
              "Region                     0.983549\n",
              "TrafficType                1.962987\n",
              "Weekend                    1.265962\n",
              "Revenue                    1.909509\n",
              "dtype: float64"
            ]
          },
          "metadata": {},
          "execution_count": 11
        }
      ]
    },
    {
      "cell_type": "markdown",
      "source": [
        "durations have distribution with skewness and outliers. we can fill them with median."
      ],
      "metadata": {
        "id": "DDStRhNwz4OC"
      }
    },
    {
      "cell_type": "markdown",
      "source": [
        "for finding best way, we compare two possible ways.\n",
        "- use median\n",
        "- use regression imputation"
      ],
      "metadata": {
        "id": "xpSyidKn0hOX"
      }
    },
    {
      "cell_type": "markdown",
      "source": [
        "for solving imbalanced problem, we use smote and good metrics."
      ],
      "metadata": {
        "id": "y4QqnZKJ1NQ0"
      }
    },
    {
      "cell_type": "markdown",
      "source": [
        "imputation"
      ],
      "metadata": {
        "id": "r74mohXA1c1f"
      }
    },
    {
      "cell_type": "code",
      "source": [
        "df[\"Revenue\"] = df[\"Revenue\"].astype(int)\n",
        "df[\"Weekend\"] = df[\"Weekend\"].astype(int)"
      ],
      "metadata": {
        "id": "V-xO_CTO2r1J"
      },
      "execution_count": 12,
      "outputs": []
    },
    {
      "cell_type": "markdown",
      "source": [
        "We have encoded the required features"
      ],
      "metadata": {
        "id": "B9ueXK5t3Sy_"
      }
    },
    {
      "cell_type": "code",
      "source": [
        "from sklearn.preprocessing import LabelEncoder\n",
        "\n",
        "encoded_features=['Month','VisitorType']\n",
        "\n",
        "label_encoder = LabelEncoder()\n",
        "for col in encoded_features:\n",
        "    df[col] = label_encoder.fit_transform(df[col])\n",
        "    \n",
        "df.head()"
      ],
      "metadata": {
        "colab": {
          "base_uri": "https://localhost:8080/",
          "height": 270
        },
        "id": "gPOg1IAB25bN",
        "outputId": "d41459d3-45e8-4805-f6e3-7fb8474cb178"
      },
      "execution_count": 13,
      "outputs": [
        {
          "output_type": "execute_result",
          "data": {
            "text/html": [
              "\n",
              "  <div id=\"df-395e713f-a23d-4e34-8972-1c341413dffb\">\n",
              "    <div class=\"colab-df-container\">\n",
              "      <div>\n",
              "<style scoped>\n",
              "    .dataframe tbody tr th:only-of-type {\n",
              "        vertical-align: middle;\n",
              "    }\n",
              "\n",
              "    .dataframe tbody tr th {\n",
              "        vertical-align: top;\n",
              "    }\n",
              "\n",
              "    .dataframe thead th {\n",
              "        text-align: right;\n",
              "    }\n",
              "</style>\n",
              "<table border=\"1\" class=\"dataframe\">\n",
              "  <thead>\n",
              "    <tr style=\"text-align: right;\">\n",
              "      <th></th>\n",
              "      <th>Administrative</th>\n",
              "      <th>Administrative_Duration</th>\n",
              "      <th>Informational</th>\n",
              "      <th>Informational_Duration</th>\n",
              "      <th>ProductRelated</th>\n",
              "      <th>ProductRelated_Duration</th>\n",
              "      <th>BounceRates</th>\n",
              "      <th>ExitRates</th>\n",
              "      <th>PageValues</th>\n",
              "      <th>SpecialDay</th>\n",
              "      <th>Month</th>\n",
              "      <th>OperatingSystems</th>\n",
              "      <th>Browser</th>\n",
              "      <th>Region</th>\n",
              "      <th>TrafficType</th>\n",
              "      <th>VisitorType</th>\n",
              "      <th>Weekend</th>\n",
              "      <th>Revenue</th>\n",
              "    </tr>\n",
              "  </thead>\n",
              "  <tbody>\n",
              "    <tr>\n",
              "      <th>0</th>\n",
              "      <td>NaN</td>\n",
              "      <td>NaN</td>\n",
              "      <td>NaN</td>\n",
              "      <td>NaN</td>\n",
              "      <td>1.0</td>\n",
              "      <td>NaN</td>\n",
              "      <td>0.20</td>\n",
              "      <td>0.20</td>\n",
              "      <td>0.0</td>\n",
              "      <td>0.0</td>\n",
              "      <td>2</td>\n",
              "      <td>1</td>\n",
              "      <td>1</td>\n",
              "      <td>1</td>\n",
              "      <td>1</td>\n",
              "      <td>2</td>\n",
              "      <td>0</td>\n",
              "      <td>0</td>\n",
              "    </tr>\n",
              "    <tr>\n",
              "      <th>1</th>\n",
              "      <td>NaN</td>\n",
              "      <td>NaN</td>\n",
              "      <td>NaN</td>\n",
              "      <td>NaN</td>\n",
              "      <td>2.0</td>\n",
              "      <td>64.000000</td>\n",
              "      <td>0.00</td>\n",
              "      <td>0.10</td>\n",
              "      <td>0.0</td>\n",
              "      <td>0.0</td>\n",
              "      <td>2</td>\n",
              "      <td>2</td>\n",
              "      <td>2</td>\n",
              "      <td>1</td>\n",
              "      <td>2</td>\n",
              "      <td>2</td>\n",
              "      <td>0</td>\n",
              "      <td>0</td>\n",
              "    </tr>\n",
              "    <tr>\n",
              "      <th>2</th>\n",
              "      <td>NaN</td>\n",
              "      <td>NaN</td>\n",
              "      <td>NaN</td>\n",
              "      <td>NaN</td>\n",
              "      <td>1.0</td>\n",
              "      <td>NaN</td>\n",
              "      <td>0.20</td>\n",
              "      <td>0.20</td>\n",
              "      <td>0.0</td>\n",
              "      <td>0.0</td>\n",
              "      <td>2</td>\n",
              "      <td>4</td>\n",
              "      <td>1</td>\n",
              "      <td>9</td>\n",
              "      <td>3</td>\n",
              "      <td>2</td>\n",
              "      <td>0</td>\n",
              "      <td>0</td>\n",
              "    </tr>\n",
              "    <tr>\n",
              "      <th>3</th>\n",
              "      <td>NaN</td>\n",
              "      <td>NaN</td>\n",
              "      <td>NaN</td>\n",
              "      <td>NaN</td>\n",
              "      <td>2.0</td>\n",
              "      <td>2.666667</td>\n",
              "      <td>0.05</td>\n",
              "      <td>0.14</td>\n",
              "      <td>0.0</td>\n",
              "      <td>0.0</td>\n",
              "      <td>2</td>\n",
              "      <td>3</td>\n",
              "      <td>2</td>\n",
              "      <td>2</td>\n",
              "      <td>4</td>\n",
              "      <td>2</td>\n",
              "      <td>0</td>\n",
              "      <td>0</td>\n",
              "    </tr>\n",
              "    <tr>\n",
              "      <th>4</th>\n",
              "      <td>NaN</td>\n",
              "      <td>NaN</td>\n",
              "      <td>NaN</td>\n",
              "      <td>NaN</td>\n",
              "      <td>10.0</td>\n",
              "      <td>627.500000</td>\n",
              "      <td>0.02</td>\n",
              "      <td>0.05</td>\n",
              "      <td>0.0</td>\n",
              "      <td>0.0</td>\n",
              "      <td>2</td>\n",
              "      <td>3</td>\n",
              "      <td>3</td>\n",
              "      <td>1</td>\n",
              "      <td>4</td>\n",
              "      <td>2</td>\n",
              "      <td>1</td>\n",
              "      <td>0</td>\n",
              "    </tr>\n",
              "  </tbody>\n",
              "</table>\n",
              "</div>\n",
              "      <button class=\"colab-df-convert\" onclick=\"convertToInteractive('df-395e713f-a23d-4e34-8972-1c341413dffb')\"\n",
              "              title=\"Convert this dataframe to an interactive table.\"\n",
              "              style=\"display:none;\">\n",
              "        \n",
              "  <svg xmlns=\"http://www.w3.org/2000/svg\" height=\"24px\"viewBox=\"0 0 24 24\"\n",
              "       width=\"24px\">\n",
              "    <path d=\"M0 0h24v24H0V0z\" fill=\"none\"/>\n",
              "    <path d=\"M18.56 5.44l.94 2.06.94-2.06 2.06-.94-2.06-.94-.94-2.06-.94 2.06-2.06.94zm-11 1L8.5 8.5l.94-2.06 2.06-.94-2.06-.94L8.5 2.5l-.94 2.06-2.06.94zm10 10l.94 2.06.94-2.06 2.06-.94-2.06-.94-.94-2.06-.94 2.06-2.06.94z\"/><path d=\"M17.41 7.96l-1.37-1.37c-.4-.4-.92-.59-1.43-.59-.52 0-1.04.2-1.43.59L10.3 9.45l-7.72 7.72c-.78.78-.78 2.05 0 2.83L4 21.41c.39.39.9.59 1.41.59.51 0 1.02-.2 1.41-.59l7.78-7.78 2.81-2.81c.8-.78.8-2.07 0-2.86zM5.41 20L4 18.59l7.72-7.72 1.47 1.35L5.41 20z\"/>\n",
              "  </svg>\n",
              "      </button>\n",
              "      \n",
              "  <style>\n",
              "    .colab-df-container {\n",
              "      display:flex;\n",
              "      flex-wrap:wrap;\n",
              "      gap: 12px;\n",
              "    }\n",
              "\n",
              "    .colab-df-convert {\n",
              "      background-color: #E8F0FE;\n",
              "      border: none;\n",
              "      border-radius: 50%;\n",
              "      cursor: pointer;\n",
              "      display: none;\n",
              "      fill: #1967D2;\n",
              "      height: 32px;\n",
              "      padding: 0 0 0 0;\n",
              "      width: 32px;\n",
              "    }\n",
              "\n",
              "    .colab-df-convert:hover {\n",
              "      background-color: #E2EBFA;\n",
              "      box-shadow: 0px 1px 2px rgba(60, 64, 67, 0.3), 0px 1px 3px 1px rgba(60, 64, 67, 0.15);\n",
              "      fill: #174EA6;\n",
              "    }\n",
              "\n",
              "    [theme=dark] .colab-df-convert {\n",
              "      background-color: #3B4455;\n",
              "      fill: #D2E3FC;\n",
              "    }\n",
              "\n",
              "    [theme=dark] .colab-df-convert:hover {\n",
              "      background-color: #434B5C;\n",
              "      box-shadow: 0px 1px 3px 1px rgba(0, 0, 0, 0.15);\n",
              "      filter: drop-shadow(0px 1px 2px rgba(0, 0, 0, 0.3));\n",
              "      fill: #FFFFFF;\n",
              "    }\n",
              "  </style>\n",
              "\n",
              "      <script>\n",
              "        const buttonEl =\n",
              "          document.querySelector('#df-395e713f-a23d-4e34-8972-1c341413dffb button.colab-df-convert');\n",
              "        buttonEl.style.display =\n",
              "          google.colab.kernel.accessAllowed ? 'block' : 'none';\n",
              "\n",
              "        async function convertToInteractive(key) {\n",
              "          const element = document.querySelector('#df-395e713f-a23d-4e34-8972-1c341413dffb');\n",
              "          const dataTable =\n",
              "            await google.colab.kernel.invokeFunction('convertToInteractive',\n",
              "                                                     [key], {});\n",
              "          if (!dataTable) return;\n",
              "\n",
              "          const docLinkHtml = 'Like what you see? Visit the ' +\n",
              "            '<a target=\"_blank\" href=https://colab.research.google.com/notebooks/data_table.ipynb>data table notebook</a>'\n",
              "            + ' to learn more about interactive tables.';\n",
              "          element.innerHTML = '';\n",
              "          dataTable['output_type'] = 'display_data';\n",
              "          await google.colab.output.renderOutput(dataTable, element);\n",
              "          const docLink = document.createElement('div');\n",
              "          docLink.innerHTML = docLinkHtml;\n",
              "          element.appendChild(docLink);\n",
              "        }\n",
              "      </script>\n",
              "    </div>\n",
              "  </div>\n",
              "  "
            ],
            "text/plain": [
              "   Administrative  Administrative_Duration  ...  Weekend  Revenue\n",
              "0             NaN                      NaN  ...        0        0\n",
              "1             NaN                      NaN  ...        0        0\n",
              "2             NaN                      NaN  ...        0        0\n",
              "3             NaN                      NaN  ...        0        0\n",
              "4             NaN                      NaN  ...        1        0\n",
              "\n",
              "[5 rows x 18 columns]"
            ]
          },
          "metadata": {},
          "execution_count": 13
        }
      ]
    },
    {
      "cell_type": "code",
      "source": [
        "from sklearn.experimental import enable_iterative_imputer\n",
        "from sklearn.impute import IterativeImputer\n",
        "\n",
        "from sklearn.linear_model import LinearRegression\n",
        "\n",
        "lr = LinearRegression()\n",
        "\n",
        "trainx = df.drop(['Revenue'], axis=1)\n",
        "ty = df['Revenue']\n",
        "\n",
        "train_col_names = list(trainx.columns.values.tolist())\n",
        "\n",
        "mice_imputer = IterativeImputer(random_state=42, estimator=lr, \n",
        "                                max_iter=10, n_nearest_features=4, imputation_order = 'roman')\n",
        "trainx = mice_imputer.fit_transform(trainx)\n",
        "\n",
        "trainx = pd.DataFrame(trainx)\n",
        "\n",
        "trainx.columns = train_col_names"
      ],
      "metadata": {
        "colab": {
          "base_uri": "https://localhost:8080/"
        },
        "id": "M08WSxVF0PE1",
        "outputId": "5516fe99-62b0-4793-f220-59c581015522"
      },
      "execution_count": 14,
      "outputs": [
        {
          "output_type": "stream",
          "name": "stderr",
          "text": [
            "/usr/local/lib/python3.7/dist-packages/sklearn/impute/_iterative.py:701: ConvergenceWarning: [IterativeImputer] Early stopping criterion not reached.\n",
            "  ConvergenceWarning,\n"
          ]
        }
      ]
    },
    {
      "cell_type": "code",
      "source": [
        "trainx.head()"
      ],
      "metadata": {
        "colab": {
          "base_uri": "https://localhost:8080/",
          "height": 270
        },
        "id": "_90dIjnv3xfo",
        "outputId": "59941380-7882-422b-f590-7c7b1fb82a6f"
      },
      "execution_count": 15,
      "outputs": [
        {
          "output_type": "execute_result",
          "data": {
            "text/html": [
              "\n",
              "  <div id=\"df-70df366e-72b1-457c-a54b-426a41283b1d\">\n",
              "    <div class=\"colab-df-container\">\n",
              "      <div>\n",
              "<style scoped>\n",
              "    .dataframe tbody tr th:only-of-type {\n",
              "        vertical-align: middle;\n",
              "    }\n",
              "\n",
              "    .dataframe tbody tr th {\n",
              "        vertical-align: top;\n",
              "    }\n",
              "\n",
              "    .dataframe thead th {\n",
              "        text-align: right;\n",
              "    }\n",
              "</style>\n",
              "<table border=\"1\" class=\"dataframe\">\n",
              "  <thead>\n",
              "    <tr style=\"text-align: right;\">\n",
              "      <th></th>\n",
              "      <th>Administrative</th>\n",
              "      <th>Administrative_Duration</th>\n",
              "      <th>Informational</th>\n",
              "      <th>Informational_Duration</th>\n",
              "      <th>ProductRelated</th>\n",
              "      <th>ProductRelated_Duration</th>\n",
              "      <th>BounceRates</th>\n",
              "      <th>ExitRates</th>\n",
              "      <th>PageValues</th>\n",
              "      <th>SpecialDay</th>\n",
              "      <th>Month</th>\n",
              "      <th>OperatingSystems</th>\n",
              "      <th>Browser</th>\n",
              "      <th>Region</th>\n",
              "      <th>TrafficType</th>\n",
              "      <th>VisitorType</th>\n",
              "      <th>Weekend</th>\n",
              "    </tr>\n",
              "  </thead>\n",
              "  <tbody>\n",
              "    <tr>\n",
              "      <th>0</th>\n",
              "      <td>3.234562</td>\n",
              "      <td>121.754581</td>\n",
              "      <td>1.922694</td>\n",
              "      <td>112.993219</td>\n",
              "      <td>1.0</td>\n",
              "      <td>-329.763134</td>\n",
              "      <td>0.20</td>\n",
              "      <td>0.20</td>\n",
              "      <td>0.0</td>\n",
              "      <td>0.0</td>\n",
              "      <td>2.0</td>\n",
              "      <td>1.0</td>\n",
              "      <td>1.0</td>\n",
              "      <td>1.0</td>\n",
              "      <td>1.0</td>\n",
              "      <td>2.0</td>\n",
              "      <td>0.0</td>\n",
              "    </tr>\n",
              "    <tr>\n",
              "      <th>1</th>\n",
              "      <td>3.238387</td>\n",
              "      <td>113.168059</td>\n",
              "      <td>1.907151</td>\n",
              "      <td>109.386916</td>\n",
              "      <td>2.0</td>\n",
              "      <td>64.000000</td>\n",
              "      <td>0.00</td>\n",
              "      <td>0.10</td>\n",
              "      <td>0.0</td>\n",
              "      <td>0.0</td>\n",
              "      <td>2.0</td>\n",
              "      <td>2.0</td>\n",
              "      <td>2.0</td>\n",
              "      <td>1.0</td>\n",
              "      <td>2.0</td>\n",
              "      <td>2.0</td>\n",
              "      <td>0.0</td>\n",
              "    </tr>\n",
              "    <tr>\n",
              "      <th>2</th>\n",
              "      <td>3.220034</td>\n",
              "      <td>121.312030</td>\n",
              "      <td>1.921210</td>\n",
              "      <td>96.602867</td>\n",
              "      <td>1.0</td>\n",
              "      <td>-388.731556</td>\n",
              "      <td>0.20</td>\n",
              "      <td>0.20</td>\n",
              "      <td>0.0</td>\n",
              "      <td>0.0</td>\n",
              "      <td>2.0</td>\n",
              "      <td>4.0</td>\n",
              "      <td>1.0</td>\n",
              "      <td>9.0</td>\n",
              "      <td>3.0</td>\n",
              "      <td>2.0</td>\n",
              "      <td>0.0</td>\n",
              "    </tr>\n",
              "    <tr>\n",
              "      <th>3</th>\n",
              "      <td>3.215170</td>\n",
              "      <td>109.816822</td>\n",
              "      <td>1.897163</td>\n",
              "      <td>105.813737</td>\n",
              "      <td>2.0</td>\n",
              "      <td>2.666667</td>\n",
              "      <td>0.05</td>\n",
              "      <td>0.14</td>\n",
              "      <td>0.0</td>\n",
              "      <td>0.0</td>\n",
              "      <td>2.0</td>\n",
              "      <td>3.0</td>\n",
              "      <td>2.0</td>\n",
              "      <td>2.0</td>\n",
              "      <td>4.0</td>\n",
              "      <td>2.0</td>\n",
              "      <td>0.0</td>\n",
              "    </tr>\n",
              "    <tr>\n",
              "      <th>4</th>\n",
              "      <td>3.472771</td>\n",
              "      <td>133.016134</td>\n",
              "      <td>1.998216</td>\n",
              "      <td>123.465027</td>\n",
              "      <td>10.0</td>\n",
              "      <td>627.500000</td>\n",
              "      <td>0.02</td>\n",
              "      <td>0.05</td>\n",
              "      <td>0.0</td>\n",
              "      <td>0.0</td>\n",
              "      <td>2.0</td>\n",
              "      <td>3.0</td>\n",
              "      <td>3.0</td>\n",
              "      <td>1.0</td>\n",
              "      <td>4.0</td>\n",
              "      <td>2.0</td>\n",
              "      <td>1.0</td>\n",
              "    </tr>\n",
              "  </tbody>\n",
              "</table>\n",
              "</div>\n",
              "      <button class=\"colab-df-convert\" onclick=\"convertToInteractive('df-70df366e-72b1-457c-a54b-426a41283b1d')\"\n",
              "              title=\"Convert this dataframe to an interactive table.\"\n",
              "              style=\"display:none;\">\n",
              "        \n",
              "  <svg xmlns=\"http://www.w3.org/2000/svg\" height=\"24px\"viewBox=\"0 0 24 24\"\n",
              "       width=\"24px\">\n",
              "    <path d=\"M0 0h24v24H0V0z\" fill=\"none\"/>\n",
              "    <path d=\"M18.56 5.44l.94 2.06.94-2.06 2.06-.94-2.06-.94-.94-2.06-.94 2.06-2.06.94zm-11 1L8.5 8.5l.94-2.06 2.06-.94-2.06-.94L8.5 2.5l-.94 2.06-2.06.94zm10 10l.94 2.06.94-2.06 2.06-.94-2.06-.94-.94-2.06-.94 2.06-2.06.94z\"/><path d=\"M17.41 7.96l-1.37-1.37c-.4-.4-.92-.59-1.43-.59-.52 0-1.04.2-1.43.59L10.3 9.45l-7.72 7.72c-.78.78-.78 2.05 0 2.83L4 21.41c.39.39.9.59 1.41.59.51 0 1.02-.2 1.41-.59l7.78-7.78 2.81-2.81c.8-.78.8-2.07 0-2.86zM5.41 20L4 18.59l7.72-7.72 1.47 1.35L5.41 20z\"/>\n",
              "  </svg>\n",
              "      </button>\n",
              "      \n",
              "  <style>\n",
              "    .colab-df-container {\n",
              "      display:flex;\n",
              "      flex-wrap:wrap;\n",
              "      gap: 12px;\n",
              "    }\n",
              "\n",
              "    .colab-df-convert {\n",
              "      background-color: #E8F0FE;\n",
              "      border: none;\n",
              "      border-radius: 50%;\n",
              "      cursor: pointer;\n",
              "      display: none;\n",
              "      fill: #1967D2;\n",
              "      height: 32px;\n",
              "      padding: 0 0 0 0;\n",
              "      width: 32px;\n",
              "    }\n",
              "\n",
              "    .colab-df-convert:hover {\n",
              "      background-color: #E2EBFA;\n",
              "      box-shadow: 0px 1px 2px rgba(60, 64, 67, 0.3), 0px 1px 3px 1px rgba(60, 64, 67, 0.15);\n",
              "      fill: #174EA6;\n",
              "    }\n",
              "\n",
              "    [theme=dark] .colab-df-convert {\n",
              "      background-color: #3B4455;\n",
              "      fill: #D2E3FC;\n",
              "    }\n",
              "\n",
              "    [theme=dark] .colab-df-convert:hover {\n",
              "      background-color: #434B5C;\n",
              "      box-shadow: 0px 1px 3px 1px rgba(0, 0, 0, 0.15);\n",
              "      filter: drop-shadow(0px 1px 2px rgba(0, 0, 0, 0.3));\n",
              "      fill: #FFFFFF;\n",
              "    }\n",
              "  </style>\n",
              "\n",
              "      <script>\n",
              "        const buttonEl =\n",
              "          document.querySelector('#df-70df366e-72b1-457c-a54b-426a41283b1d button.colab-df-convert');\n",
              "        buttonEl.style.display =\n",
              "          google.colab.kernel.accessAllowed ? 'block' : 'none';\n",
              "\n",
              "        async function convertToInteractive(key) {\n",
              "          const element = document.querySelector('#df-70df366e-72b1-457c-a54b-426a41283b1d');\n",
              "          const dataTable =\n",
              "            await google.colab.kernel.invokeFunction('convertToInteractive',\n",
              "                                                     [key], {});\n",
              "          if (!dataTable) return;\n",
              "\n",
              "          const docLinkHtml = 'Like what you see? Visit the ' +\n",
              "            '<a target=\"_blank\" href=https://colab.research.google.com/notebooks/data_table.ipynb>data table notebook</a>'\n",
              "            + ' to learn more about interactive tables.';\n",
              "          element.innerHTML = '';\n",
              "          dataTable['output_type'] = 'display_data';\n",
              "          await google.colab.output.renderOutput(dataTable, element);\n",
              "          const docLink = document.createElement('div');\n",
              "          docLink.innerHTML = docLinkHtml;\n",
              "          element.appendChild(docLink);\n",
              "        }\n",
              "      </script>\n",
              "    </div>\n",
              "  </div>\n",
              "  "
            ],
            "text/plain": [
              "   Administrative  Administrative_Duration  ...  VisitorType  Weekend\n",
              "0        3.234562               121.754581  ...          2.0      0.0\n",
              "1        3.238387               113.168059  ...          2.0      0.0\n",
              "2        3.220034               121.312030  ...          2.0      0.0\n",
              "3        3.215170               109.816822  ...          2.0      0.0\n",
              "4        3.472771               133.016134  ...          2.0      1.0\n",
              "\n",
              "[5 rows x 17 columns]"
            ]
          },
          "metadata": {},
          "execution_count": 15
        }
      ]
    },
    {
      "cell_type": "code",
      "source": [
        "from imblearn.over_sampling import SMOTE,ADASYN, SVMSMOTE\n",
        "from imblearn.under_sampling import NearMiss\n",
        "from sklearn.preprocessing import StandardScaler\n",
        "\n",
        "sm = SMOTE( random_state=101) #,sampling_strategy='minority', k_neighbors=5)\n",
        "# X_svm_smote, y_svm_smote = svm_smote.fit_resample(trainx,ty)\n",
        "\n",
        "# X_train_svm, X_test_svm, y_train, y_test = train_test_split(X_svm_smote,y_svm_smote, test_size=0.20, random_state=101)\n",
        "\n",
        "sc = StandardScaler()\n",
        "# X_train = sc.fit_transform(X_svm_smote)"
      ],
      "metadata": {
        "id": "_C1ln6wI39hc"
      },
      "execution_count": 16,
      "outputs": []
    },
    {
      "cell_type": "markdown",
      "source": [
        "Imbalanced classification involves developing predictive models on classification datasets that have a severe class imbalance.\n",
        "\n",
        "The challenge of working with imbalanced datasets is that most machine learning techniques will ignore, and in turn have poor performance on, the minority class, although typically it is performance on the minority class that is most important.\n",
        "\n",
        "One approach to addressing imbalanced datasets is to oversample the minority class. The simplest approach involves duplicating examples in the minority class, although these examples don’t add any new information to the model. Instead, new examples can be synthesized from the existing examples. This is a type of data augmentation for the minority class and is referred to as the Synthetic Minority Oversampling Technique, or SMOTE for short."
      ],
      "metadata": {
        "id": "XgI_lAuuK0uV"
      }
    },
    {
      "cell_type": "code",
      "source": [
        "from sklearn.model_selection import cross_val_score\n",
        "from sklearn.ensemble import RandomForestClassifier\n",
        "from imblearn.pipeline import Pipeline as imbpipeline\n",
        "\n",
        "random_forest_model = RandomForestClassifier(random_state= 59)\n",
        "\n",
        "pipeline = imbpipeline(steps = [['smote', sm],\n",
        "                                ['scaler', sc],\n",
        "                                ['classifier', random_forest_model]])\n",
        "\n",
        "scores = cross_val_score(pipeline, trainx,ty, cv=5)\n",
        "print(\"%0.3f accuracy with a standard deviation of %0.3f\" % (scores.mean(), scores.std()))\n",
        "scores = cross_val_score(pipeline, trainx,ty, cv=5, scoring='f1')\n",
        "print(\"%0.3f f1-score with a standard deviation of %0.3f\" % (scores.mean(), scores.std()))\n",
        "scores = cross_val_score(pipeline, trainx, ty, cv=5, scoring='roc_auc')\n",
        "print(\"%0.3f auc with a standard deviation of %0.3f\" % (scores.mean(), scores.std()))\n",
        "scores = cross_val_score(pipeline, trainx, ty, cv=5, scoring='neg_log_loss')\n",
        "print(\"%0.3f neg_log_loss with a standard deviation of %0.3f\" % (scores.mean(), scores.std()))"
      ],
      "metadata": {
        "colab": {
          "base_uri": "https://localhost:8080/"
        },
        "id": "asRbNk483_TF",
        "outputId": "8599982c-d884-40bd-9701-9efff94ab370"
      },
      "execution_count": 17,
      "outputs": [
        {
          "output_type": "stream",
          "name": "stdout",
          "text": [
            "0.884 accuracy with a standard deviation of 0.025\n",
            "0.651 f1-score with a standard deviation of 0.075\n",
            "0.901 auc with a standard deviation of 0.039\n",
            "-0.308 neg_log_loss with a standard deviation of 0.035\n"
          ]
        }
      ]
    },
    {
      "cell_type": "code",
      "source": [
        "trainx = df.drop(['Revenue'], axis=1)\n",
        "ty = df['Revenue']"
      ],
      "metadata": {
        "id": "kyNAr7xj794u"
      },
      "execution_count": 18,
      "outputs": []
    },
    {
      "cell_type": "code",
      "source": [
        "for cols in ['Administrative','Informational','ProductRelated']:\n",
        "    median_value=trainx[cols].median()\n",
        "    trainx[cols]=trainx[cols].fillna(median_value)"
      ],
      "metadata": {
        "id": "RI2bO2M38Rcu"
      },
      "execution_count": 19,
      "outputs": []
    },
    {
      "cell_type": "code",
      "source": [
        "for cols in ['Administrative_Duration','Informational_Duration','ProductRelated_Duration','BounceRates','ExitRates']:\n",
        "    mean_value=trainx[cols].median()\n",
        "    trainx[cols]=trainx[cols].fillna(mean_value)"
      ],
      "metadata": {
        "id": "-xnGpwbn8gI9"
      },
      "execution_count": 20,
      "outputs": []
    },
    {
      "cell_type": "code",
      "source": [
        "sm = SMOTE( random_state=101) #,sampling_strategy='minority', k_neighbors=5)\n",
        "# X_svm_smote, y_svm_smote = svm_smote.fit_resample(trainx,ty)\n",
        "\n",
        "# # X_train_svm, X_test_svm, y_train, y_test = train_test_split(X_svm_smote,y_svm_smote, test_size=0.20, random_state=101)\n",
        "\n",
        "sc = StandardScaler()\n",
        "# X_train = sc.fit_transform(X_svm_smote)"
      ],
      "metadata": {
        "id": "3PGMCgUU8xCZ"
      },
      "execution_count": 21,
      "outputs": []
    },
    {
      "cell_type": "code",
      "source": [
        "from sklearn.model_selection import cross_val_score\n",
        "from sklearn.ensemble import RandomForestClassifier\n",
        "\n",
        "random_forest_model = RandomForestClassifier(random_state= 59)\n",
        "\n",
        "pipeline = imbpipeline(steps = [['smote', sm],\n",
        "                                ['scaler', sc],\n",
        "                                ['classifier', random_forest_model]])\n",
        "\n",
        "scores = cross_val_score(pipeline, trainx,ty, cv=5)\n",
        "print(\"%0.3f accuracy with a standard deviation of %0.3f\" % (scores.mean(), scores.std()))\n",
        "scores = cross_val_score(pipeline, trainx,ty, cv=5, scoring='f1')\n",
        "print(\"%0.3f f1-score with a standard deviation of %0.3f\" % (scores.mean(), scores.std()))\n",
        "scores = cross_val_score(pipeline, trainx, ty, cv=5, scoring='roc_auc')\n",
        "print(\"%0.3f auc with a standard deviation of %0.3f\" % (scores.mean(), scores.std()))\n",
        "scores = cross_val_score(pipeline, trainx, ty, cv=5, scoring='neg_log_loss')\n",
        "print(\"%0.3f neg_log_loss with a standard deviation of %0.3f\" % (scores.mean(), scores.std()))"
      ],
      "metadata": {
        "colab": {
          "base_uri": "https://localhost:8080/"
        },
        "id": "PPMjoWRB84-Q",
        "outputId": "c1d28210-025e-41e3-d4f4-433a06555e30"
      },
      "execution_count": 22,
      "outputs": [
        {
          "output_type": "stream",
          "name": "stdout",
          "text": [
            "0.882 accuracy with a standard deviation of 0.029\n",
            "0.653 f1-score with a standard deviation of 0.084\n",
            "0.903 auc with a standard deviation of 0.044\n",
            "-0.303 neg_log_loss with a standard deviation of 0.051\n"
          ]
        }
      ]
    },
    {
      "cell_type": "markdown",
      "source": [
        "Based on the classification results of the two imputation methods, the best way to fill nan values ​​is to use median in imputation."
      ],
      "metadata": {
        "id": "TfLJe9PP9EEj"
      }
    },
    {
      "cell_type": "markdown",
      "source": [
        "## curse of dimensionality"
      ],
      "metadata": {
        "id": "pu-0nSELKGVm"
      }
    },
    {
      "cell_type": "code",
      "source": [
        "# from sklearn.experimental import enable_iterative_imputer\n",
        "# from sklearn.impute import IterativeImputer\n",
        "\n",
        "# from sklearn.linear_model import LinearRegression\n",
        "\n",
        "# lr = LinearRegression()\n",
        "\n",
        "# trainx = df\n",
        "\n",
        "# train_col_names = list(trainx.columns.values.tolist())\n",
        "\n",
        "# mice_imputer = IterativeImputer(random_state=42, estimator=lr, \n",
        "#                                 max_iter=10, n_nearest_features=4, imputation_order = 'roman')\n",
        "# trainx = mice_imputer.fit_transform(trainx)\n",
        "\n",
        "# trainx = pd.DataFrame(trainx)\n",
        "\n",
        "# trainx.columns = train_col_names"
      ],
      "metadata": {
        "id": "5e-6N42d-0Qj"
      },
      "execution_count": 23,
      "outputs": []
    },
    {
      "cell_type": "code",
      "source": [
        "for cols in ['Administrative','Informational','ProductRelated']:\n",
        "    median_value=df[cols].median()\n",
        "    df[cols]=df[cols].fillna(median_value)\n",
        "\n",
        "for cols in ['Administrative_Duration','Informational_Duration','ProductRelated_Duration','BounceRates','ExitRates']:\n",
        "    mean_value=df[cols].median()\n",
        "    df[cols]=df[cols].fillna(mean_value)"
      ],
      "metadata": {
        "id": "MgTKO50dUgu5"
      },
      "execution_count": 24,
      "outputs": []
    },
    {
      "cell_type": "code",
      "source": [
        "# df = trainx\n",
        "df.isna().sum()"
      ],
      "metadata": {
        "colab": {
          "base_uri": "https://localhost:8080/"
        },
        "id": "NbqwOC9f_GTa",
        "outputId": "2e3c025a-70f0-405c-ef3a-627ca4b51c16"
      },
      "execution_count": 25,
      "outputs": [
        {
          "output_type": "execute_result",
          "data": {
            "text/plain": [
              "Administrative             0\n",
              "Administrative_Duration    0\n",
              "Informational              0\n",
              "Informational_Duration     0\n",
              "ProductRelated             0\n",
              "ProductRelated_Duration    0\n",
              "BounceRates                0\n",
              "ExitRates                  0\n",
              "PageValues                 0\n",
              "SpecialDay                 0\n",
              "Month                      0\n",
              "OperatingSystems           0\n",
              "Browser                    0\n",
              "Region                     0\n",
              "TrafficType                0\n",
              "VisitorType                0\n",
              "Weekend                    0\n",
              "Revenue                    0\n",
              "dtype: int64"
            ]
          },
          "metadata": {},
          "execution_count": 25
        }
      ]
    },
    {
      "cell_type": "code",
      "source": [
        "def vis_list(a, t, y, x):\n",
        "  plt.figure()\n",
        "  plt.plot(np.array(range(len(a)))+1,a)\n",
        "  plt.title(t)\n",
        "  plt.ylabel(y)\n",
        "  plt.xlabel(x)\n",
        "  plt.grid()\n",
        "  plt.show()"
      ],
      "metadata": {
        "id": "KIfhT2Ou_W-V"
      },
      "execution_count": 26,
      "outputs": []
    },
    {
      "cell_type": "code",
      "source": [
        "df.shape"
      ],
      "metadata": {
        "colab": {
          "base_uri": "https://localhost:8080/"
        },
        "id": "GGiMpXUPCIvA",
        "outputId": "ad17b6ef-aceb-4c80-c8ac-0b4dda4df656"
      },
      "execution_count": 27,
      "outputs": [
        {
          "output_type": "execute_result",
          "data": {
            "text/plain": [
              "(12330, 18)"
            ]
          },
          "metadata": {},
          "execution_count": 27
        }
      ]
    },
    {
      "cell_type": "code",
      "source": [
        "from sklearn.decomposition import PCA\n",
        "import seaborn as sns\n",
        "\n",
        "pca = PCA(n_components=17)\n",
        "principalComponents = pca.fit_transform(df.drop(['Revenue'],axis=1))\n",
        "\n",
        "vis_list(pca.explained_variance_ratio_,\\\n",
        "         \"Explained variation per principal component\",\\\n",
        "         'Covered Variance by this PC', 'Principal Component')\n",
        "\n",
        "var_sum = sum(pca.explained_variance_ratio_)\n",
        "\n",
        "covered = [i/var_sum for i in pca.explained_variance_ratio_]\n",
        "\n",
        "vis_list(np.cumsum(covered),\\\n",
        "         \"Covered variation until principal component\",\\\n",
        "         'Covered variation until this PC', 'Principal Component')\n",
        "\n",
        "print('Explained variation per principal component for the first 100 PCs: \\n{}'\\\n",
        "      .format(pca.explained_variance_ratio_[:100]))\n",
        "\n",
        "plt.figure()\n",
        "sns.set(style='whitegrid')\n",
        "plt.plot(np.cumsum(pca.explained_variance_ratio_))\n",
        "plt.xlabel('number of components')\n",
        "plt.ylabel('cumulative explained variance')\n",
        "plt.axvline(linewidth=4, color='r', linestyle = '--', x=6, ymin=0, ymax=1)\n",
        "display(plt.show())\n",
        "evr = pca.explained_variance_ratio_\n",
        "cvr = np.cumsum(pca.explained_variance_ratio_)\n",
        "pca_df = pd.DataFrame()\n",
        "pca_df['Cumulative Variance Ratio'] = cvr\n",
        "pca_df['Explained Variance Ratio'] = evr\n",
        "display(pca_df.head(10))"
      ],
      "metadata": {
        "colab": {
          "base_uri": "https://localhost:8080/",
          "height": 1000
        },
        "id": "_Lm5zNI9B7XE",
        "outputId": "022d1c9f-c8f8-47fe-c825-92d576d8c897"
      },
      "execution_count": 28,
      "outputs": [
        {
          "output_type": "display_data",
          "data": {
            "image/png": "[encoded data removed]",
            "text/plain": [
              "<Figure size 432x288 with 1 Axes>"
            ]
          },
          "metadata": {
            "needs_background": "light"
          }
        },
        {
          "output_type": "display_data",
          "data": {
            "image/png": "[encoded data removed]",
            "text/plain": [
              "<Figure size 432x288 with 1 Axes>"
            ]
          },
          "metadata": {
            "needs_background": "light"
          }
        },
        {
          "output_type": "stream",
          "name": "stdout",
          "text": [
            "Explained variation per principal component for the first 100 PCs: \n",
            "[9.89097392e-01 6.63996032e-03 4.01280125e-03 1.45373749e-04\n",
            " 9.42859517e-05 4.47817544e-06 1.63150452e-06 1.49869024e-06\n",
            " 1.24853764e-06 7.90717970e-07 2.06654957e-07 1.44618696e-07\n",
            " 1.27138319e-07 4.87697323e-08 1.06216624e-08 1.06367287e-09\n",
            " 5.11714368e-11]\n"
          ]
        },
        {
          "output_type": "display_data",
          "data": {
            "image/png": "[encoded data removed]",
            "text/plain": [
              "<Figure size 432x288 with 1 Axes>"
            ]
          },
          "metadata": {
            "needs_background": "light"
          }
        },
        {
          "output_type": "display_data",
          "data": {
            "text/plain": [
              "None"
            ]
          },
          "metadata": {}
        },
        {
          "output_type": "display_data",
          "data": {
            "text/html": [
              "\n",
              "  <div id=\"df-dc177498-fa43-45f1-8752-19bc7192575e\">\n",
              "    <div class=\"colab-df-container\">\n",
              "      <div>\n",
              "<style scoped>\n",
              "    .dataframe tbody tr th:only-of-type {\n",
              "        vertical-align: middle;\n",
              "    }\n",
              "\n",
              "    .dataframe tbody tr th {\n",
              "        vertical-align: top;\n",
              "    }\n",
              "\n",
              "    .dataframe thead th {\n",
              "        text-align: right;\n",
              "    }\n",
              "</style>\n",
              "<table border=\"1\" class=\"dataframe\">\n",
              "  <thead>\n",
              "    <tr style=\"text-align: right;\">\n",
              "      <th></th>\n",
              "      <th>Cumulative Variance Ratio</th>\n",
              "      <th>Explained Variance Ratio</th>\n",
              "    </tr>\n",
              "  </thead>\n",
              "  <tbody>\n",
              "    <tr>\n",
              "      <th>0</th>\n",
              "      <td>0.989097</td>\n",
              "      <td>9.890974e-01</td>\n",
              "    </tr>\n",
              "    <tr>\n",
              "      <th>1</th>\n",
              "      <td>0.995737</td>\n",
              "      <td>6.639960e-03</td>\n",
              "    </tr>\n",
              "    <tr>\n",
              "      <th>2</th>\n",
              "      <td>0.999750</td>\n",
              "      <td>4.012801e-03</td>\n",
              "    </tr>\n",
              "    <tr>\n",
              "      <th>3</th>\n",
              "      <td>0.999896</td>\n",
              "      <td>1.453737e-04</td>\n",
              "    </tr>\n",
              "    <tr>\n",
              "      <th>4</th>\n",
              "      <td>0.999990</td>\n",
              "      <td>9.428595e-05</td>\n",
              "    </tr>\n",
              "    <tr>\n",
              "      <th>5</th>\n",
              "      <td>0.999994</td>\n",
              "      <td>4.478175e-06</td>\n",
              "    </tr>\n",
              "    <tr>\n",
              "      <th>6</th>\n",
              "      <td>0.999996</td>\n",
              "      <td>1.631505e-06</td>\n",
              "    </tr>\n",
              "    <tr>\n",
              "      <th>7</th>\n",
              "      <td>0.999997</td>\n",
              "      <td>1.498690e-06</td>\n",
              "    </tr>\n",
              "    <tr>\n",
              "      <th>8</th>\n",
              "      <td>0.999999</td>\n",
              "      <td>1.248538e-06</td>\n",
              "    </tr>\n",
              "    <tr>\n",
              "      <th>9</th>\n",
              "      <td>0.999999</td>\n",
              "      <td>7.907180e-07</td>\n",
              "    </tr>\n",
              "  </tbody>\n",
              "</table>\n",
              "</div>\n",
              "      <button class=\"colab-df-convert\" onclick=\"convertToInteractive('df-dc177498-fa43-45f1-8752-19bc7192575e')\"\n",
              "              title=\"Convert this dataframe to an interactive table.\"\n",
              "              style=\"display:none;\">\n",
              "        \n",
              "  <svg xmlns=\"http://www.w3.org/2000/svg\" height=\"24px\"viewBox=\"0 0 24 24\"\n",
              "       width=\"24px\">\n",
              "    <path d=\"M0 0h24v24H0V0z\" fill=\"none\"/>\n",
              "    <path d=\"M18.56 5.44l.94 2.06.94-2.06 2.06-.94-2.06-.94-.94-2.06-.94 2.06-2.06.94zm-11 1L8.5 8.5l.94-2.06 2.06-.94-2.06-.94L8.5 2.5l-.94 2.06-2.06.94zm10 10l.94 2.06.94-2.06 2.06-.94-2.06-.94-.94-2.06-.94 2.06-2.06.94z\"/><path d=\"M17.41 7.96l-1.37-1.37c-.4-.4-.92-.59-1.43-.59-.52 0-1.04.2-1.43.59L10.3 9.45l-7.72 7.72c-.78.78-.78 2.05 0 2.83L4 21.41c.39.39.9.59 1.41.59.51 0 1.02-.2 1.41-.59l7.78-7.78 2.81-2.81c.8-.78.8-2.07 0-2.86zM5.41 20L4 18.59l7.72-7.72 1.47 1.35L5.41 20z\"/>\n",
              "  </svg>\n",
              "      </button>\n",
              "      \n",
              "  <style>\n",
              "    .colab-df-container {\n",
              "      display:flex;\n",
              "      flex-wrap:wrap;\n",
              "      gap: 12px;\n",
              "    }\n",
              "\n",
              "    .colab-df-convert {\n",
              "      background-color: #E8F0FE;\n",
              "      border: none;\n",
              "      border-radius: 50%;\n",
              "      cursor: pointer;\n",
              "      display: none;\n",
              "      fill: #1967D2;\n",
              "      height: 32px;\n",
              "      padding: 0 0 0 0;\n",
              "      width: 32px;\n",
              "    }\n",
              "\n",
              "    .colab-df-convert:hover {\n",
              "      background-color: #E2EBFA;\n",
              "      box-shadow: 0px 1px 2px rgba(60, 64, 67, 0.3), 0px 1px 3px 1px rgba(60, 64, 67, 0.15);\n",
              "      fill: #174EA6;\n",
              "    }\n",
              "\n",
              "    [theme=dark] .colab-df-convert {\n",
              "      background-color: #3B4455;\n",
              "      fill: #D2E3FC;\n",
              "    }\n",
              "\n",
              "    [theme=dark] .colab-df-convert:hover {\n",
              "      background-color: #434B5C;\n",
              "      box-shadow: 0px 1px 3px 1px rgba(0, 0, 0, 0.15);\n",
              "      filter: drop-shadow(0px 1px 2px rgba(0, 0, 0, 0.3));\n",
              "      fill: #FFFFFF;\n",
              "    }\n",
              "  </style>\n",
              "\n",
              "      <script>\n",
              "        const buttonEl =\n",
              "          document.querySelector('#df-dc177498-fa43-45f1-8752-19bc7192575e button.colab-df-convert');\n",
              "        buttonEl.style.display =\n",
              "          google.colab.kernel.accessAllowed ? 'block' : 'none';\n",
              "\n",
              "        async function convertToInteractive(key) {\n",
              "          const element = document.querySelector('#df-dc177498-fa43-45f1-8752-19bc7192575e');\n",
              "          const dataTable =\n",
              "            await google.colab.kernel.invokeFunction('convertToInteractive',\n",
              "                                                     [key], {});\n",
              "          if (!dataTable) return;\n",
              "\n",
              "          const docLinkHtml = 'Like what you see? Visit the ' +\n",
              "            '<a target=\"_blank\" href=https://colab.research.google.com/notebooks/data_table.ipynb>data table notebook</a>'\n",
              "            + ' to learn more about interactive tables.';\n",
              "          element.innerHTML = '';\n",
              "          dataTable['output_type'] = 'display_data';\n",
              "          await google.colab.output.renderOutput(dataTable, element);\n",
              "          const docLink = document.createElement('div');\n",
              "          docLink.innerHTML = docLinkHtml;\n",
              "          element.appendChild(docLink);\n",
              "        }\n",
              "      </script>\n",
              "    </div>\n",
              "  </div>\n",
              "  "
            ],
            "text/plain": [
              "   Cumulative Variance Ratio  Explained Variance Ratio\n",
              "0                   0.989097              9.890974e-01\n",
              "1                   0.995737              6.639960e-03\n",
              "2                   0.999750              4.012801e-03\n",
              "3                   0.999896              1.453737e-04\n",
              "4                   0.999990              9.428595e-05\n",
              "5                   0.999994              4.478175e-06\n",
              "6                   0.999996              1.631505e-06\n",
              "7                   0.999997              1.498690e-06\n",
              "8                   0.999999              1.248538e-06\n",
              "9                   0.999999              7.907180e-07"
            ]
          },
          "metadata": {}
        }
      ]
    },
    {
      "cell_type": "markdown",
      "source": [
        "As can be seen, the first 6 pcs cover almost 100% of the variance. That is, with a smaller number of features, all the variance and detailed data information in the main dimension can be obtained. This can indicates the existence of a curse of dimensions and a high number of features."
      ],
      "metadata": {
        "id": "F2cy14fmC__j"
      }
    },
    {
      "cell_type": "markdown",
      "source": [
        "As the number of attributes increases, we need to increase the number of data exponentially to find the correct answer. This is a curse of dimensions. Dimension reduction methods help us reduce the number of attributes while the amount of data is constant. This reduces the curse. We can find the right answer easier and faster. This also makes it possible to find the right answer in some cases when it was not possible in the initial situation. Reducing the dimension reduces the number of parameters and speeds up training. Data volume also decreases."
      ],
      "metadata": {
        "id": "THzOPuo9FZTO"
      }
    },
    {
      "cell_type": "markdown",
      "source": [
        "##  Feature selection"
      ],
      "metadata": {
        "id": "K7aLAs2zKcLG"
      }
    },
    {
      "cell_type": "code",
      "source": [
        "from sklearn.ensemble import RandomForestRegressor\n",
        "# define dataset\n",
        "trainx = df.drop(['Revenue'], axis=1)\n",
        "ty = df['Revenue']\n",
        "svm_smote = SMOTE( random_state=101) #,sampling_strategy='minority', k_neighbors=5)\n",
        "X_svm_smote, y_svm_smote = svm_smote.fit_resample(trainx,ty)\n",
        "\n",
        "# X_train_svm, X_test_svm, y_train, y_test = train_test_split(X_svm_smote,y_svm_smote, test_size=0.20, random_state=101)\n",
        "\n",
        "sc = StandardScaler()\n",
        "X_train = sc.fit_transform(X_svm_smote)\n",
        "# define the model\n",
        "model = RandomForestRegressor()\n",
        "# fit the model\n",
        "model.fit(X_train, y_svm_smote)\n",
        "print('R^2:',model.score(X_train, y_svm_smote))\n",
        "# get importance\n",
        "importance = model.feature_importances_\n",
        "# summarize feature importance\n",
        "for i,v in enumerate(importance):\n",
        "\tprint('Feature: %s, Score: %.5f' % (trainx.columns[i],v))\n",
        "# plot feature importance\n",
        "plt.bar([x for x in range(len(importance))], importance)\n",
        "plt.show()"
      ],
      "metadata": {
        "colab": {
          "base_uri": "https://localhost:8080/",
          "height": 581
        },
        "id": "xfnRT8E6Fapp",
        "outputId": "b9f16c22-cd1b-4907-bed8-52c7df89b4aa"
      },
      "execution_count": 29,
      "outputs": [
        {
          "output_type": "stream",
          "name": "stdout",
          "text": [
            "R^2: 0.9718687583957014\n",
            "Feature: Administrative, Score: 0.03373\n",
            "Feature: Administrative_Duration, Score: 0.03877\n",
            "Feature: Informational, Score: 0.01336\n",
            "Feature: Informational_Duration, Score: 0.01682\n",
            "Feature: ProductRelated, Score: 0.03670\n",
            "Feature: ProductRelated_Duration, Score: 0.04856\n",
            "Feature: BounceRates, Score: 0.03203\n",
            "Feature: ExitRates, Score: 0.03844\n",
            "Feature: PageValues, Score: 0.63013\n",
            "Feature: SpecialDay, Score: 0.00416\n",
            "Feature: Month, Score: 0.03136\n",
            "Feature: OperatingSystems, Score: 0.00917\n",
            "Feature: Browser, Score: 0.01019\n",
            "Feature: Region, Score: 0.01453\n",
            "Feature: TrafficType, Score: 0.01466\n",
            "Feature: VisitorType, Score: 0.02186\n",
            "Feature: Weekend, Score: 0.00552\n"
          ]
        },
        {
          "output_type": "display_data",
          "data": {
            "image/png": "[encoded data removed]",
            "text/plain": [
              "<Figure size 432x288 with 1 Axes>"
            ]
          },
          "metadata": {}
        }
      ]
    },
    {
      "cell_type": "markdown",
      "source": [
        "top 6 features from most important to least important\n",
        "- PageValues\n",
        "- Month\n",
        "- ProductRelated_Duration\n",
        "- VisitorType\n",
        "- Administrative_Duration\n",
        "- ProductRelated"
      ],
      "metadata": {
        "id": "b-g1VgaeMgpg"
      }
    },
    {
      "cell_type": "code",
      "source": [
        "from sklearn.ensemble import RandomForestRegressor\n",
        "# define dataset\n",
        "trainx = df.drop(['Revenue'], axis=1)\n",
        "ty = df['Revenue']\n",
        "trainx = trainx.loc[:,['PageValues','Month','ProductRelated_Duration',\n",
        "                       'VisitorType','Administrative_Duration','ProductRelated']]\n",
        "svm_smote = SMOTE( random_state=101) #,sampling_strategy='minority', k_neighbors=5)\n",
        "X_svm_smote, y_svm_smote = svm_smote.fit_resample(trainx,ty)\n",
        "\n",
        "# X_train_svm, X_test_svm, y_train, y_test = train_test_split(X_svm_smote,y_svm_smote, test_size=0.20, random_state=101)\n",
        "\n",
        "sc = StandardScaler()\n",
        "X_train = sc.fit_transform(X_svm_smote)\n",
        "# define the model\n",
        "model = RandomForestRegressor()\n",
        "# fit the model\n",
        "model.fit(X_train, y_svm_smote)\n",
        "print('R^2:',model.score(X_train, y_svm_smote))\n",
        "# get importance\n",
        "importance = model.feature_importances_\n",
        "# summarize feature importance\n",
        "for i,v in enumerate(importance):\n",
        "\tprint('Feature: %s, Score: %.5f' % (trainx.columns[i],v))\n",
        "# plot feature importance\n",
        "plt.bar([x for x in range(len(importance))], importance)\n",
        "plt.show()"
      ],
      "metadata": {
        "colab": {
          "base_uri": "https://localhost:8080/",
          "height": 389
        },
        "id": "-ocT63dzNPIN",
        "outputId": "b6cf9f05-d9bc-4875-87b1-91ae04e6231d"
      },
      "execution_count": 30,
      "outputs": [
        {
          "output_type": "stream",
          "name": "stdout",
          "text": [
            "R^2: 0.9657752125721781\n",
            "Feature: PageValues, Score: 0.64516\n",
            "Feature: Month, Score: 0.04376\n",
            "Feature: ProductRelated_Duration, Score: 0.11619\n",
            "Feature: VisitorType, Score: 0.02490\n",
            "Feature: Administrative_Duration, Score: 0.08527\n",
            "Feature: ProductRelated, Score: 0.08472\n"
          ]
        },
        {
          "output_type": "display_data",
          "data": {
            "image/png": "[encoded data removed]",
            "text/plain": [
              "<Figure size 432x288 with 1 Axes>"
            ]
          },
          "metadata": {}
        }
      ]
    },
    {
      "cell_type": "markdown",
      "source": [
        "Other attributes explain a small percentage of the entire database information. We use the criterion r ^ 2 to calculate the amount of variance coverage and the information contained in the data. With this reduction in dimensions, significant information is not lost. The lack of these features slightly reduces our forecast information and affects the performance of the model. We need to consider whether this negative impact is significant or not. To do this, we must use classification with a common model. You need to see how much the feature reduction reduces the evaluation criterias."
      ],
      "metadata": {
        "id": "E3Aj1W19O9lt"
      }
    },
    {
      "cell_type": "markdown",
      "source": [
        "## find best feature reduction"
      ],
      "metadata": {
        "id": "l4ll3Wz3LL13"
      }
    },
    {
      "cell_type": "code",
      "source": [
        "from sklearn.ensemble import RandomForestClassifier\n",
        "# define dataset\n",
        "trainx = df.drop(['Revenue'], axis=1)\n",
        "ty = df['Revenue']\n",
        "\n",
        "svm_smote = SMOTE( random_state=101) #,sampling_strategy='minority', k_neighbors=5)\n",
        "# X_svm_smote, y_svm_smote = svm_smote.fit_resample(trainx,ty)\n",
        "\n",
        "# X_train_svm, X_test_svm, y_train, y_test = train_test_split(X_svm_smote,y_svm_smote, test_size=0.20, random_state=101)\n",
        "\n",
        "sc = StandardScaler()\n",
        "# X_train = sc.fit_transform(X_svm_smote)\n",
        "\n",
        "# define the model\n",
        "model = RandomForestClassifier()\n",
        "pipeline = imbpipeline(steps = [['smote', svm_smote],\n",
        "                                ['scaler', sc],\n",
        "                                ['classifier', model]])\n",
        "# fit the model\n",
        "scores = cross_val_score(pipeline, trainx, ty, cv=5)\n",
        "print(\"%0.3f accuracy with a standard deviation of %0.3f\" % (scores.mean(), scores.std()))\n",
        "scores = cross_val_score(pipeline, trainx,ty, cv=5, scoring='f1')\n",
        "print(\"%0.3f f1-score with a standard deviation of %0.3f\" % (scores.mean(), scores.std()))\n",
        "scores = cross_val_score(pipeline, trainx, ty, cv=5, scoring='roc_auc')\n",
        "print(\"%0.3f auc with a standard deviation of %0.3f\" % (scores.mean(), scores.std()))\n",
        "scores = cross_val_score(pipeline, trainx, ty, cv=5, scoring='neg_log_loss')\n",
        "print(\"%0.3f neg_log_loss with a standard deviation of %0.3f\" % (scores.mean(), scores.std()))"
      ],
      "metadata": {
        "colab": {
          "base_uri": "https://localhost:8080/"
        },
        "id": "1oP5LZN9bK3l",
        "outputId": "4c64e185-1f70-4b10-eec8-ba3bce71c50f"
      },
      "execution_count": 31,
      "outputs": [
        {
          "output_type": "stream",
          "name": "stdout",
          "text": [
            "0.880 accuracy with a standard deviation of 0.028\n",
            "0.650 f1-score with a standard deviation of 0.087\n",
            "0.901 auc with a standard deviation of 0.044\n",
            "-0.317 neg_log_loss with a standard deviation of 0.033\n"
          ]
        }
      ]
    },
    {
      "cell_type": "code",
      "source": [
        "from sklearn.ensemble import RandomForestClassifier\n",
        "# define dataset\n",
        "trainx = df.drop(['Revenue'], axis=1)\n",
        "ty = df['Revenue']\n",
        "trainx = trainx.loc[:,['PageValues','Month','ProductRelated_Duration',\n",
        "                       'VisitorType','Administrative_Duration','ProductRelated']]\n",
        "\n",
        "svm_smote = SMOTE( random_state=101) #,sampling_strategy='minority', k_neighbors=5)\n",
        "# X_svm_smote, y_svm_smote = svm_smote.fit_resample(trainx,ty)\n",
        "\n",
        "# X_train_svm, X_test_svm, y_train, y_test = train_test_split(X_svm_smote,y_svm_smote, test_size=0.20, random_state=101)\n",
        "\n",
        "sc = StandardScaler()\n",
        "# X_train = sc.fit_transform(X_svm_smote)\n",
        "\n",
        "# define the model\n",
        "model = RandomForestClassifier()\n",
        "pipeline = imbpipeline(steps = [['smote', svm_smote],\n",
        "                                ['scaler', sc],\n",
        "                                ['classifier', model]])\n",
        "# fit the model\n",
        "scores = cross_val_score(pipeline, trainx, ty, cv=5)\n",
        "print(\"%0.3f accuracy with a standard deviation of %0.3f\" % (scores.mean(), scores.std()))\n",
        "scores = cross_val_score(pipeline, trainx,ty, cv=5, scoring='f1')\n",
        "print(\"%0.3f f1-score with a standard deviation of %0.3f\" % (scores.mean(), scores.std()))\n",
        "scores = cross_val_score(pipeline, trainx, ty, cv=5, scoring='roc_auc')\n",
        "print(\"%0.3f auc with a standard deviation of %0.3f\" % (scores.mean(), scores.std()))\n",
        "scores = cross_val_score(pipeline, trainx, ty, cv=5, scoring='neg_log_loss')\n",
        "print(\"%0.3f neg_log_loss with a standard deviation of %0.3f\" % (scores.mean(), scores.std()))"
      ],
      "metadata": {
        "colab": {
          "base_uri": "https://localhost:8080/"
        },
        "id": "G9tv9A0KbKU6",
        "outputId": "45a269b8-f290-46d1-c7f9-c9ee2723b9d7"
      },
      "execution_count": 32,
      "outputs": [
        {
          "output_type": "stream",
          "name": "stdout",
          "text": [
            "0.830 accuracy with a standard deviation of 0.037\n",
            "0.616 f1-score with a standard deviation of 0.051\n",
            "0.884 auc with a standard deviation of 0.040\n",
            "-0.465 neg_log_loss with a standard deviation of 0.062\n"
          ]
        }
      ]
    },
    {
      "cell_type": "markdown",
      "source": [
        "Using the most important features of the forest reduces the performance of the model, which is a significant reduction. That is, there is useful information in other properties that help us classify."
      ],
      "metadata": {
        "id": "ZOlv7D7Dmrow"
      }
    },
    {
      "cell_type": "code",
      "source": [
        "from sklearn.ensemble import RandomForestClassifier\n",
        "# define dataset\n",
        "trainx = df.drop(['Revenue'], axis=1)\n",
        "ty = df['Revenue']\n",
        "\n",
        "svm_smote = SMOTE( random_state=101) #,sampling_strategy='minority', k_neighbors=5)\n",
        "# X_svm_smote, y_svm_smote = svm_smote.fit_resample(trainx,ty)\n",
        "\n",
        "# X_train_svm, X_test_svm, y_train, y_test = train_test_split(X_svm_smote,y_svm_smote, test_size=0.20, random_state=101)\n",
        "\n",
        "sc = StandardScaler()\n",
        "# X_train = sc.fit_transform(X_svm_smote)\n",
        "\n",
        "pca = PCA(n_components=9)\n",
        "# pca.fit(X_train)\n",
        "# X_train_scaled_pca = pca.transform(X_train)\n",
        "\n",
        "# define the model\n",
        "model = RandomForestClassifier()\n",
        "pipeline = imbpipeline(steps = [['smote', svm_smote],\n",
        "                                ['scaler', sc],\n",
        "                                ['pca', pca],\n",
        "                                ['classifier', model]])\n",
        "\n",
        "# fit the model\n",
        "scores = cross_val_score(pipeline, trainx, ty, cv=5)\n",
        "print(\"%0.3f accuracy with a standard deviation of %0.3f\" % (scores.mean(), scores.std()))\n",
        "scores = cross_val_score(pipeline, trainx,ty, cv=5, scoring='f1')\n",
        "print(\"%0.3f f1-score with a standard deviation of %0.3f\" % (scores.mean(), scores.std()))\n",
        "scores = cross_val_score(pipeline, trainx, ty, cv=5, scoring='roc_auc')\n",
        "print(\"%0.3f auc with a standard deviation of %0.3f\" % (scores.mean(), scores.std()))\n",
        "scores = cross_val_score(pipeline, trainx, ty, cv=5, scoring='neg_log_loss')\n",
        "print(\"%0.3f neg_log_loss with a standard deviation of %0.3f\" % (scores.mean(), scores.std()))"
      ],
      "metadata": {
        "colab": {
          "base_uri": "https://localhost:8080/"
        },
        "id": "9-b2PMSqLPGL",
        "outputId": "8d6d47b8-c702-4944-f256-6633e5c2f4dc"
      },
      "execution_count": 33,
      "outputs": [
        {
          "output_type": "stream",
          "name": "stdout",
          "text": [
            "0.795 accuracy with a standard deviation of 0.028\n",
            "0.478 f1-score with a standard deviation of 0.046\n",
            "0.800 auc with a standard deviation of 0.027\n",
            "-0.467 neg_log_loss with a standard deviation of 0.041\n"
          ]
        }
      ]
    },
    {
      "cell_type": "code",
      "source": [
        "from sklearn.ensemble import RandomForestClassifier\n",
        "from sklearn.discriminant_analysis import LinearDiscriminantAnalysis\n",
        "# define dataset\n",
        "trainx = df.drop(['Revenue'], axis=1)\n",
        "ty = df['Revenue']\n",
        "\n",
        "svm_smote = SMOTE( random_state=101) #,sampling_strategy='minority', k_neighbors=5)\n",
        "# X_svm_smote, y_svm_smote = svm_smote.fit_resample(trainx,ty)\n",
        "\n",
        "# X_train_svm, X_test_svm, y_train, y_test = train_test_split(X_svm_smote,y_svm_smote, test_size=0.20, random_state=101)\n",
        "\n",
        "sc = StandardScaler()\n",
        "# X_train = sc.fit_transform(X_svm_smote)\n",
        "\n",
        "lda = LinearDiscriminantAnalysis()\n",
        "# pca.fit(X_train,y_svm_smote)\n",
        "# X_train_scaled_pca = pca.transform(X_train)\n",
        "\n",
        "# define the model\n",
        "model = RandomForestClassifier()\n",
        "pipeline = imbpipeline(steps = [['smote', svm_smote],\n",
        "                                ['scaler', sc],\n",
        "                                ['lda', lda],\n",
        "                                ['classifier', model]])\n",
        "# fit the model\n",
        "scores = cross_val_score(pipeline, trainx, ty, cv=5)\n",
        "print(\"%0.3f accuracy with a standard deviation of %0.3f\" % (scores.mean(), scores.std()))\n",
        "scores = cross_val_score(pipeline, trainx,ty, cv=5, scoring='f1')\n",
        "print(\"%0.3f f1-score with a standard deviation of %0.3f\" % (scores.mean(), scores.std()))\n",
        "scores = cross_val_score(pipeline, trainx, ty, cv=5, scoring='roc_auc')\n",
        "print(\"%0.3f auc with a standard deviation of %0.3f\" % (scores.mean(), scores.std()))\n",
        "scores = cross_val_score(pipeline, trainx, ty, cv=5, scoring='neg_log_loss')\n",
        "print(\"%0.3f neg_log_loss with a standard deviation of %0.3f\" % (scores.mean(), scores.std()))"
      ],
      "metadata": {
        "colab": {
          "base_uri": "https://localhost:8080/"
        },
        "id": "FO_8uAl-h8dp",
        "outputId": "a0ccece1-672d-4608-dfd2-40197630e9eb"
      },
      "execution_count": 34,
      "outputs": [
        {
          "output_type": "stream",
          "name": "stdout",
          "text": [
            "0.701 accuracy with a standard deviation of 0.025\n",
            "0.402 f1-score with a standard deviation of 0.017\n",
            "0.753 auc with a standard deviation of 0.017\n",
            "-2.586 neg_log_loss with a standard deviation of 0.570\n"
          ]
        }
      ]
    },
    {
      "cell_type": "markdown",
      "source": [
        "We do not have a curse of dimension. This is because the performance of the fixed model deteriorates with dimensional reduction methods and the performance difference is significant. That is, reducing the large number of dimensions has had a great effect on the performance of the model. If the data has a curse of dimension, by reducing the dimension size of the data, the performance of the model will not decrease significantly and performance may even improve."
      ],
      "metadata": {
        "id": "vcndeOMLmXgy"
      }
    },
    {
      "cell_type": "markdown",
      "source": [
        "The best way to reduce dimension is to not reduce the dimensions."
      ],
      "metadata": {
        "id": "U6WhJSnWnKP7"
      }
    },
    {
      "cell_type": "markdown",
      "source": [
        "## find best model"
      ],
      "metadata": {
        "id": "GPMI_GRWJ28j"
      }
    },
    {
      "cell_type": "code",
      "source": [
        "from sklearn.tree import DecisionTreeClassifier\n",
        "dt_pca=DecisionTreeClassifier(criterion='entropy',random_state=0)\n",
        "\n",
        "from sklearn.linear_model import LogisticRegression\n",
        "LR_pca=LogisticRegression()\n",
        "\n",
        "from sklearn.metrics import confusion_matrix,accuracy_score,roc_auc_score,roc_curve\n",
        "from sklearn.ensemble import RandomForestClassifier\n",
        "rfc_pca=RandomForestClassifier(n_estimators=100,random_state=0)\n",
        "\n",
        "from sklearn.neighbors import KNeighborsClassifier\n",
        "knn_pca=KNeighborsClassifier()\n",
        "\n",
        "from sklearn.ensemble import AdaBoostClassifier\n",
        "ada_pca=AdaBoostClassifier(random_state=0)\n",
        "\n",
        "import lightgbm as lgb\n",
        "lgbm_pca=lgb.LGBMClassifier(random_state=0)\n",
        "\n",
        "from xgboost import XGBClassifier\n",
        "xgb_pca=XGBClassifier(random_state=0)\n",
        "\n",
        "from sklearn import svm\n",
        "svc_pca=svm.SVC(random_state=0)\n",
        "\n",
        "import warnings\n",
        "warnings.filterwarnings('ignore')"
      ],
      "metadata": {
        "id": "HBlzUg5IF_sL"
      },
      "execution_count": 35,
      "outputs": []
    },
    {
      "cell_type": "code",
      "source": [
        "trainx = df.drop(['Revenue'], axis=1)\n",
        "ty = df['Revenue']\n",
        "\n",
        "svm_smote = SMOTE( random_state=101) #,sampling_strategy='minority', k_neighbors=5)\n",
        "# X_svm_smote, y_svm_smote = svm_smote.fit_resample(trainx,ty)\n",
        "\n",
        "# X_train_svm, X_test_svm, y_train, y_test = train_test_split(X_svm_smote,y_svm_smote, test_size=0.20, random_state=101)\n",
        "\n",
        "sc = StandardScaler()\n",
        "# X_train = sc.fit_transform(X_svm_smote)"
      ],
      "metadata": {
        "id": "gerBsS-Cxc1V"
      },
      "execution_count": 36,
      "outputs": []
    },
    {
      "cell_type": "markdown",
      "source": [
        "Hyperparameter Tuning of KNN"
      ],
      "metadata": {
        "id": "vRXMIR-nxFYr"
      }
    },
    {
      "cell_type": "code",
      "source": [
        "from sklearn.neighbors import KNeighborsClassifier\n",
        "from sklearn.model_selection import RandomizedSearchCV,GridSearchCV\n",
        "from scipy.stats import randint as sp_randint\n",
        "\n",
        "pca_knn_tunned=KNeighborsClassifier()\n",
        "\n",
        "pipeline = imbpipeline(steps = [['smote', svm_smote],\n",
        "                                ['scaler', sc],\n",
        "                                ['classifier', pca_knn_tunned]])\n",
        "\n",
        "params={'classifier__n_neighbors':[(i+1)*20 for i in range(4)],\n",
        "        'classifier__p':[i+1 for i in range(3)]}\n",
        "\n",
        "rsearch_knn_pca=GridSearchCV(pipeline,params,cv=3,scoring='roc_auc',n_jobs=-1)\n",
        "# rsearch_knn_pca.get_params().keys()\n",
        "rsearch_knn_pca.fit(trainx, ty)"
      ],
      "metadata": {
        "colab": {
          "base_uri": "https://localhost:8080/"
        },
        "id": "jqQwS1W0w_H6",
        "outputId": "cb7ffe04-293f-41c5-9e6e-512e3492c709"
      },
      "execution_count": 37,
      "outputs": [
        {
          "output_type": "execute_result",
          "data": {
            "text/plain": [
              "GridSearchCV(cv=3,\n",
              "             estimator=Pipeline(steps=[['smote', SMOTE(random_state=101)],\n",
              "                                       ['scaler', StandardScaler()],\n",
              "                                       ['classifier', KNeighborsClassifier()]]),\n",
              "             n_jobs=-1,\n",
              "             param_grid={'classifier__n_neighbors': [20, 40, 60, 80],\n",
              "                         'classifier__p': [1, 2, 3]},\n",
              "             scoring='roc_auc')"
            ]
          },
          "metadata": {},
          "execution_count": 37
        }
      ]
    },
    {
      "cell_type": "code",
      "source": [
        "rsearch_knn_pca.best_params_"
      ],
      "metadata": {
        "colab": {
          "base_uri": "https://localhost:8080/"
        },
        "id": "rZABgpU8xp4B",
        "outputId": "d89a629b-415a-4a3d-dd70-df5a53f91c55"
      },
      "execution_count": 38,
      "outputs": [
        {
          "output_type": "execute_result",
          "data": {
            "text/plain": [
              "{'classifier__n_neighbors': 80, 'classifier__p': 1}"
            ]
          },
          "metadata": {},
          "execution_count": 38
        }
      ]
    },
    {
      "cell_type": "code",
      "source": [
        "knn_tunned=KNeighborsClassifier(n_neighbors=rsearch_knn_pca.best_params_['classifier__n_neighbors'],\n",
        "                                p=rsearch_knn_pca.best_params_['classifier__p'])"
      ],
      "metadata": {
        "id": "5qY6seStxvde"
      },
      "execution_count": 39,
      "outputs": []
    },
    {
      "cell_type": "code",
      "source": [
        "pipeline = imbpipeline(steps = [['smote', svm_smote],\n",
        "                                ['scaler', sc],\n",
        "                                ['classifier', knn_tunned]])\n",
        "knn_ac = cross_val_score(pipeline, trainx, ty, cv=5)\n",
        "print(\"%0.3f accuracy with a standard deviation of %0.3f\" % (knn_ac.mean(), knn_ac.std()))\n",
        "scores = cross_val_score(pipeline, trainx,ty, cv=5, scoring='f1')\n",
        "print(\"%0.3f f1-score with a standard deviation of %0.3f\" % (scores.mean(), scores.std()))\n",
        "scores = cross_val_score(pipeline, trainx, ty, cv=5, scoring='roc_auc')\n",
        "print(\"%0.3f auc with a standard deviation of %0.3f\" % (scores.mean(), scores.std()))\n",
        "scores = cross_val_score(pipeline, trainx, ty, cv=5, scoring='neg_log_loss')\n",
        "print(\"%0.3f neg_log_loss with a standard deviation of %0.3f\" % (scores.mean(), scores.std()))"
      ],
      "metadata": {
        "colab": {
          "base_uri": "https://localhost:8080/"
        },
        "id": "GDwg-dzXUb8X",
        "outputId": "170adff7-3dcc-4a8c-a23d-f9d83490024f"
      },
      "execution_count": 40,
      "outputs": [
        {
          "output_type": "stream",
          "name": "stdout",
          "text": [
            "0.827 accuracy with a standard deviation of 0.023\n",
            "0.516 f1-score with a standard deviation of 0.041\n",
            "0.834 auc with a standard deviation of 0.026\n",
            "-0.403 neg_log_loss with a standard deviation of 0.038\n"
          ]
        }
      ]
    },
    {
      "cell_type": "markdown",
      "source": [
        "Hyperparameter Tuning of SVC"
      ],
      "metadata": {
        "id": "X7qImCajy4Rp"
      }
    },
    {
      "cell_type": "code",
      "source": [
        "from sklearn import svm\n",
        "from sklearn.model_selection import RandomizedSearchCV,GridSearchCV\n",
        "from scipy.stats import randint as sp_randint\n",
        "\n",
        "SVM_tunned=svm.SVC(random_state=0)\n",
        "params = {\n",
        "          # 'classifier__C': [0.1, 1], \n",
        "          # 'classifier__C': [0.01, 0.1, 1, 10, 100], \n",
        "          # 'classifier__degree': [3, 6],\n",
        "          # 'classifier__gamma': [1, 0.1, 0.01, 0.001, 0.0001],\n",
        "          # 'classifier__gamma': [1, 0.1, 0.01], \n",
        "          # 'classifier__kernel': ['rbf', 'linear', 'poly']}\n",
        "          'classifier__kernel': ['linear']}\n",
        "\n",
        "pipeline = imbpipeline(steps = [['smote', svm_smote],\n",
        "                                ['scaler', sc],\n",
        "                                ['classifier', SVM_tunned]])\n",
        "rsearch_svm=GridSearchCV(pipeline,params,cv=3,scoring='roc_auc',n_jobs=-1)\n",
        "\n",
        "rsearch_svm.fit(trainx, ty)"
      ],
      "metadata": {
        "colab": {
          "base_uri": "https://localhost:8080/"
        },
        "id": "GhRpaM7hx2RV",
        "outputId": "400577ed-cf50-47c0-f29e-07e63d3c62bb"
      },
      "execution_count": 41,
      "outputs": [
        {
          "output_type": "execute_result",
          "data": {
            "text/plain": [
              "GridSearchCV(cv=3,\n",
              "             estimator=Pipeline(steps=[['smote', SMOTE(random_state=101)],\n",
              "                                       ['scaler', StandardScaler()],\n",
              "                                       ['classifier', SVC(random_state=0)]]),\n",
              "             n_jobs=-1, param_grid={'classifier__kernel': ['linear']},\n",
              "             scoring='roc_auc')"
            ]
          },
          "metadata": {},
          "execution_count": 41
        }
      ]
    },
    {
      "cell_type": "code",
      "source": [
        "rsearch_svm.best_params_"
      ],
      "metadata": {
        "id": "MtdFC1p8W9J2",
        "colab": {
          "base_uri": "https://localhost:8080/"
        },
        "outputId": "2804af9e-f70b-4f5b-e5ba-83f8fffb612a"
      },
      "execution_count": 42,
      "outputs": [
        {
          "output_type": "execute_result",
          "data": {
            "text/plain": [
              "{'classifier__kernel': 'linear'}"
            ]
          },
          "metadata": {},
          "execution_count": 42
        }
      ]
    },
    {
      "cell_type": "code",
      "source": [
        "SVM_tunned=svm.SVC(\n",
        "    # C=rsearch_svm.best_params_['classifier__C'],\n",
        "                   kernel=rsearch_svm.best_params_['classifier__kernel'])"
      ],
      "metadata": {
        "id": "KNuU9YM-W-Zt"
      },
      "execution_count": 43,
      "outputs": []
    },
    {
      "cell_type": "code",
      "source": [
        "pipeline = imbpipeline(steps = [['smote', svm_smote],\n",
        "                                ['scaler', sc],\n",
        "                                ['classifier', SVM_tunned]])\n",
        "svm_ac = cross_val_score(pipeline, trainx, ty, cv=5)\n",
        "print(\"%0.3f accuracy with a standard deviation of %0.3f\" % (svm_ac.mean(), svm_ac.std()))\n",
        "scores = cross_val_score(pipeline, trainx,ty, cv=5, scoring='f1')\n",
        "print(\"%0.3f f1-score with a standard deviation of %0.3f\" % (scores.mean(), scores.std()))\n",
        "scores = cross_val_score(pipeline, trainx, ty, cv=5, scoring='roc_auc')\n",
        "print(\"%0.3f auc with a standard deviation of %0.3f\" % (scores.mean(), scores.std()))\n",
        "scores = cross_val_score(pipeline, trainx, ty, cv=5, scoring='neg_log_loss')\n",
        "print(\"%0.3f neg_log_loss with a standard deviation of %0.3f\" % (scores.mean(), scores.std()))"
      ],
      "metadata": {
        "colab": {
          "base_uri": "https://localhost:8080/"
        },
        "id": "QXavJL53Z2hf",
        "outputId": "7df6136b-03a2-4f73-ee3c-f3caf820f926"
      },
      "execution_count": 44,
      "outputs": [
        {
          "output_type": "stream",
          "name": "stdout",
          "text": [
            "0.877 accuracy with a standard deviation of 0.032\n",
            "0.646 f1-score with a standard deviation of 0.084\n",
            "0.881 auc with a standard deviation of 0.046\n",
            "nan neg_log_loss with a standard deviation of nan\n"
          ]
        }
      ]
    },
    {
      "cell_type": "markdown",
      "source": [
        "Hyperparameter Tuning of Decision Tree"
      ],
      "metadata": {
        "id": "JiqMtIf6Y1KG"
      }
    },
    {
      "cell_type": "code",
      "source": [
        "from sklearn import svm\n",
        "from sklearn.model_selection import RandomizedSearchCV,GridSearchCV\n",
        "from scipy.stats import randint as sp_randint\n",
        "\n",
        "DT_tunned=DecisionTreeClassifier(random_state=0)\n",
        "params={\n",
        "        'classifier__max_features':[1,5,10,15,20],\n",
        "        'classifier__max_depth': [2,6,10,14],\n",
        "        'classifier__min_samples_split':[1,5,9],\n",
        "        'classifier__min_samples_leaf':[1,3,5, 6],\n",
        "        'classifier__criterion':['gini','entropy']}\n",
        "\n",
        "pipeline = imbpipeline(steps = [['smote', svm_smote],\n",
        "                                ['scaler', sc],\n",
        "                                ['classifier', DT_tunned]])\n",
        "rsearch_svm=GridSearchCV(pipeline,params,cv=3,scoring='roc_auc',n_jobs=-1)\n",
        "\n",
        "rsearch_svm.fit(trainx, ty)"
      ],
      "metadata": {
        "colab": {
          "base_uri": "https://localhost:8080/"
        },
        "id": "A47soBEiaLCL",
        "outputId": "a4002a5c-2987-4e80-b5b7-ba21d1a36551"
      },
      "execution_count": 45,
      "outputs": [
        {
          "output_type": "execute_result",
          "data": {
            "text/plain": [
              "GridSearchCV(cv=3,\n",
              "             estimator=Pipeline(steps=[['smote', SMOTE(random_state=101)],\n",
              "                                       ['scaler', StandardScaler()],\n",
              "                                       ['classifier',\n",
              "                                        DecisionTreeClassifier(random_state=0)]]),\n",
              "             n_jobs=-1,\n",
              "             param_grid={'classifier__criterion': ['gini', 'entropy'],\n",
              "                         'classifier__max_depth': [2, 6, 10, 14],\n",
              "                         'classifier__max_features': [1, 5, 10, 15, 20],\n",
              "                         'classifier__min_samples_leaf': [1, 3, 5, 6],\n",
              "                         'classifier__min_samples_split': [1, 5, 9]},\n",
              "             scoring='roc_auc')"
            ]
          },
          "metadata": {},
          "execution_count": 45
        }
      ]
    },
    {
      "cell_type": "code",
      "source": [
        "rsearch_svm.best_params_"
      ],
      "metadata": {
        "colab": {
          "base_uri": "https://localhost:8080/"
        },
        "id": "2OlDjEcAbr9y",
        "outputId": "57618dd2-dea2-4915-85bd-6aca52a563bd"
      },
      "execution_count": 46,
      "outputs": [
        {
          "output_type": "execute_result",
          "data": {
            "text/plain": [
              "{'classifier__criterion': 'entropy',\n",
              " 'classifier__max_depth': 6,\n",
              " 'classifier__max_features': 1,\n",
              " 'classifier__min_samples_leaf': 3,\n",
              " 'classifier__min_samples_split': 5}"
            ]
          },
          "metadata": {},
          "execution_count": 46
        }
      ]
    },
    {
      "cell_type": "code",
      "source": [
        "DT_tunned=DecisionTreeClassifier(criterion=rsearch_svm.best_params_['classifier__criterion'],\n",
        "                   max_depth=rsearch_svm.best_params_['classifier__max_depth'],\n",
        "                   max_features=rsearch_svm.best_params_['classifier__max_features'],\n",
        "                   min_samples_leaf=rsearch_svm.best_params_['classifier__min_samples_leaf'],\n",
        "                   min_samples_split=rsearch_svm.best_params_['classifier__min_samples_split'])"
      ],
      "metadata": {
        "id": "bALmgYZ-cEY8"
      },
      "execution_count": 47,
      "outputs": []
    },
    {
      "cell_type": "code",
      "source": [
        "pipeline = imbpipeline(steps = [['smote', svm_smote],\n",
        "                                ['scaler', sc],\n",
        "                                ['classifier', DT_tunned]])\n",
        "dt_ac = cross_val_score(pipeline, trainx, ty, cv=5)\n",
        "print(\"%0.3f accuracy with a standard deviation of %0.3f\" % (dt_ac.mean(), dt_ac.std()))\n",
        "scores = cross_val_score(pipeline, trainx,ty, cv=5, scoring='f1')\n",
        "print(\"%0.3f f1-score with a standard deviation of %0.3f\" % (scores.mean(), scores.std()))\n",
        "scores = cross_val_score(pipeline, trainx, ty, cv=5, scoring='roc_auc')\n",
        "print(\"%0.3f auc with a standard deviation of %0.3f\" % (scores.mean(), scores.std()))\n",
        "scores = cross_val_score(pipeline, trainx, ty, cv=5, scoring='neg_log_loss')\n",
        "print(\"%0.3f neg_log_loss with a standard deviation of %0.3f\" % (scores.mean(), scores.std()))"
      ],
      "metadata": {
        "colab": {
          "base_uri": "https://localhost:8080/"
        },
        "id": "3MIw6FKMcFbb",
        "outputId": "0ca7c958-5663-4ee5-9fbc-9b0c0084d501"
      },
      "execution_count": 48,
      "outputs": [
        {
          "output_type": "stream",
          "name": "stdout",
          "text": [
            "0.729 accuracy with a standard deviation of 0.096\n",
            "0.427 f1-score with a standard deviation of 0.143\n",
            "0.673 auc with a standard deviation of 0.056\n",
            "-0.603 neg_log_loss with a standard deviation of 0.134\n"
          ]
        }
      ]
    },
    {
      "cell_type": "markdown",
      "source": [
        "Hyperparameter Tuning of LR"
      ],
      "metadata": {
        "id": "5cZqfJfGcLie"
      }
    },
    {
      "cell_type": "code",
      "source": [
        "from sklearn import svm\n",
        "from sklearn.model_selection import RandomizedSearchCV,GridSearchCV\n",
        "from scipy.stats import randint as sp_randint\n",
        "\n",
        "lr_tunned=LogisticRegression(random_state=0)\n",
        "params={\n",
        "        'classifier__C':[0.01,0.1,1,10,100],\n",
        "        'classifier__penalty': ['l1', 'l2', 'elasticnet']\n",
        "        }\n",
        "\n",
        "pipeline = imbpipeline(steps = [['smote', svm_smote],\n",
        "                                ['scaler', sc],\n",
        "                                ['classifier', lr_tunned]])\n",
        "rsearch_svm=GridSearchCV(pipeline,params,cv=3,scoring='roc_auc',n_jobs=-1)\n",
        "\n",
        "rsearch_svm.fit(trainx, ty)"
      ],
      "metadata": {
        "colab": {
          "base_uri": "https://localhost:8080/"
        },
        "id": "UJE21RmDdQHB",
        "outputId": "046c9023-55ed-4437-9b1a-c208cc173c5f"
      },
      "execution_count": 49,
      "outputs": [
        {
          "output_type": "execute_result",
          "data": {
            "text/plain": [
              "GridSearchCV(cv=3,\n",
              "             estimator=Pipeline(steps=[['smote', SMOTE(random_state=101)],\n",
              "                                       ['scaler', StandardScaler()],\n",
              "                                       ['classifier',\n",
              "                                        LogisticRegression(random_state=0)]]),\n",
              "             n_jobs=-1,\n",
              "             param_grid={'classifier__C': [0.01, 0.1, 1, 10, 100],\n",
              "                         'classifier__penalty': ['l1', 'l2', 'elasticnet']},\n",
              "             scoring='roc_auc')"
            ]
          },
          "metadata": {},
          "execution_count": 49
        }
      ]
    },
    {
      "cell_type": "code",
      "source": [
        "rsearch_svm.best_params_"
      ],
      "metadata": {
        "colab": {
          "base_uri": "https://localhost:8080/"
        },
        "id": "vEAhHJIyeO4n",
        "outputId": "f50da18b-e749-4d8e-970a-aed6f0de18b2"
      },
      "execution_count": 50,
      "outputs": [
        {
          "output_type": "execute_result",
          "data": {
            "text/plain": [
              "{'classifier__C': 0.01, 'classifier__penalty': 'l2'}"
            ]
          },
          "metadata": {},
          "execution_count": 50
        }
      ]
    },
    {
      "cell_type": "code",
      "source": [
        "lr_tunned=LogisticRegression(C=rsearch_svm.best_params_['classifier__C'],\n",
        "                             penalty=rsearch_svm.best_params_['classifier__penalty'])"
      ],
      "metadata": {
        "id": "4_TKYAnSeQ70"
      },
      "execution_count": 51,
      "outputs": []
    },
    {
      "cell_type": "code",
      "source": [
        "pipeline = imbpipeline(steps = [['smote', svm_smote],\n",
        "                                ['scaler', sc],\n",
        "                                ['classifier', lr_tunned]])\n",
        "lr_ac = cross_val_score(pipeline, trainx, ty, cv=5)\n",
        "print(\"%0.3f accuracy with a standard deviation of %0.3f\" % (lr_ac.mean(), lr_ac.std()))\n",
        "scores = cross_val_score(pipeline, trainx,ty, cv=5, scoring='f1')\n",
        "print(\"%0.3f f1-score with a standard deviation of %0.3f\" % (scores.mean(), scores.std()))\n",
        "scores = cross_val_score(pipeline, trainx, ty, cv=5, scoring='roc_auc')\n",
        "print(\"%0.3f auc with a standard deviation of %0.3f\" % (scores.mean(), scores.std()))\n",
        "scores = cross_val_score(pipeline, trainx, ty, cv=5, scoring='neg_log_loss')\n",
        "print(\"%0.3f neg_log_loss with a standard deviation of %0.3f\" % (scores.mean(), scores.std()))"
      ],
      "metadata": {
        "colab": {
          "base_uri": "https://localhost:8080/"
        },
        "id": "5sCJvdThekAl",
        "outputId": "ec88d441-b7e4-40d4-ce47-ab1d85df2cbc"
      },
      "execution_count": 52,
      "outputs": [
        {
          "output_type": "stream",
          "name": "stdout",
          "text": [
            "0.837 accuracy with a standard deviation of 0.031\n",
            "0.570 f1-score with a standard deviation of 0.056\n",
            "0.854 auc with a standard deviation of 0.034\n",
            "-0.451 neg_log_loss with a standard deviation of 0.060\n"
          ]
        }
      ]
    },
    {
      "cell_type": "markdown",
      "source": [
        "Hyperparameter Tuning of mlp"
      ],
      "metadata": {
        "id": "FKWzkJnaeu2b"
      }
    },
    {
      "cell_type": "code",
      "source": [
        "from sklearn.neural_network import MLPClassifier\n",
        "from sklearn.model_selection import RandomizedSearchCV,GridSearchCV\n",
        "from scipy.stats import randint as sp_randint\n",
        "\n",
        "mlp_tunned=MLPClassifier(random_state=0)\n",
        "params={\n",
        "        'classifier__activation':['logistic', 'tanh', 'relu'],\n",
        "        'classifier__hidden_layer_sizes': [(100),(100,100)]\n",
        "        }\n",
        "\n",
        "pipeline = imbpipeline(steps = [['smote', svm_smote],\n",
        "                                ['scaler', sc],\n",
        "                                ['classifier', mlp_tunned]])\n",
        "rsearch_svm=GridSearchCV(pipeline,params,cv=3,scoring='roc_auc',n_jobs=-1)\n",
        "\n",
        "rsearch_svm.fit(trainx, ty)"
      ],
      "metadata": {
        "colab": {
          "base_uri": "https://localhost:8080/"
        },
        "id": "ylTyZSjJetdR",
        "outputId": "7e579a82-513c-4862-c7d4-c6aaa7569d21"
      },
      "execution_count": 53,
      "outputs": [
        {
          "output_type": "execute_result",
          "data": {
            "text/plain": [
              "GridSearchCV(cv=3,\n",
              "             estimator=Pipeline(steps=[['smote', SMOTE(random_state=101)],\n",
              "                                       ['scaler', StandardScaler()],\n",
              "                                       ['classifier',\n",
              "                                        MLPClassifier(random_state=0)]]),\n",
              "             n_jobs=-1,\n",
              "             param_grid={'classifier__activation': ['logistic', 'tanh', 'relu'],\n",
              "                         'classifier__hidden_layer_sizes': [100, (100, 100)]},\n",
              "             scoring='roc_auc')"
            ]
          },
          "metadata": {},
          "execution_count": 53
        }
      ]
    },
    {
      "cell_type": "code",
      "source": [
        "rsearch_svm.best_params_"
      ],
      "metadata": {
        "colab": {
          "base_uri": "https://localhost:8080/"
        },
        "id": "HAqEinEwl-pq",
        "outputId": "776eb4f4-2295-4084-a180-d62558d79cd3"
      },
      "execution_count": 54,
      "outputs": [
        {
          "output_type": "execute_result",
          "data": {
            "text/plain": [
              "{'classifier__activation': 'logistic',\n",
              " 'classifier__hidden_layer_sizes': (100, 100)}"
            ]
          },
          "metadata": {},
          "execution_count": 54
        }
      ]
    },
    {
      "cell_type": "code",
      "source": [
        "mlp_tunned=MLPClassifier(activation=rsearch_svm.best_params_['classifier__activation'],\n",
        "                             hidden_layer_sizes=rsearch_svm.best_params_['classifier__hidden_layer_sizes'])"
      ],
      "metadata": {
        "id": "0P46uILzmDs3"
      },
      "execution_count": 55,
      "outputs": []
    },
    {
      "cell_type": "code",
      "source": [
        "pipeline = imbpipeline(steps = [['smote', svm_smote],\n",
        "                                ['scaler', sc],\n",
        "                                ['classifier', mlp_tunned]])\n",
        "mlp_ac = cross_val_score(pipeline, trainx, ty, cv=5)\n",
        "print(\"%0.3f accuracy with a standard deviation of %0.3f\" % (mlp_ac.mean(), mlp_ac.std()))\n",
        "scores = cross_val_score(pipeline, trainx,ty, cv=5, scoring='f1')\n",
        "print(\"%0.3f f1-score with a standard deviation of %0.3f\" % (scores.mean(), scores.std()))\n",
        "scores = cross_val_score(pipeline, trainx, ty, cv=5, scoring='roc_auc')\n",
        "print(\"%0.3f auc with a standard deviation of %0.3f\" % (scores.mean(), scores.std()))\n",
        "scores = cross_val_score(pipeline, trainx, ty, cv=5, scoring='neg_log_loss')\n",
        "print(\"%0.3f neg_log_loss with a standard deviation of %0.3f\" % (scores.mean(), scores.std()))"
      ],
      "metadata": {
        "colab": {
          "base_uri": "https://localhost:8080/"
        },
        "id": "6bvMDExemby_",
        "outputId": "e8a19f0c-c803-44f5-e6a3-49a5b26f93e2"
      },
      "execution_count": 56,
      "outputs": [
        {
          "output_type": "stream",
          "name": "stdout",
          "text": [
            "0.864 accuracy with a standard deviation of 0.038\n",
            "0.636 f1-score with a standard deviation of 0.086\n",
            "0.880 auc with a standard deviation of 0.054\n",
            "-0.373 neg_log_loss with a standard deviation of 0.086\n"
          ]
        }
      ]
    },
    {
      "cell_type": "markdown",
      "source": [
        "draw bar plot of models accuracy"
      ],
      "metadata": {
        "id": "UBShboV239OF"
      }
    },
    {
      "cell_type": "code",
      "source": [
        "accs_l = [knn_ac, svm_ac, lr_ac, mlp_ac, dt_ac]\n",
        "\n",
        "ms = []\n",
        "ss = []\n",
        "\n",
        "for i in accs_l:\n",
        "  m, s = (i.mean(), i.std())\n",
        "  ms.append(m)\n",
        "  ss.append(s)"
      ],
      "metadata": {
        "id": "4EvL2Mtv4B6t"
      },
      "execution_count": 70,
      "outputs": []
    },
    {
      "cell_type": "code",
      "source": [
        "fig, ax = plt.subplots(figsize=(15,10))\n",
        "gg = ax.bar(range(len(ms)), ms, yerr=ss, align='center', alpha=0.5, ecolor='black', capsize=10)\n",
        "ax.set_xticks(list(range(len(ms))))\n",
        "ax.set_xticklabels(['knn', 'svm', 'logistic regression', 'mlp', 'decision tree'])\n",
        "\n",
        "i = 0\n",
        "for p in gg:\n",
        "    width = p.get_width()\n",
        "    height = p.get_height()\n",
        "    x, y = p.get_xy()\n",
        "     \n",
        "    plt.text(x+width-0.35,\n",
        "             y+height-0.15,\n",
        "             str(round(100*ms[i],2))+'%',\n",
        "             ha='center')\n",
        "    i += 1\n",
        "\n",
        "plt.xlabel('model name')\n",
        "plt.ylabel('accuracy')\n",
        "plt.title('Comparison of models based on accuracy criteria')\n",
        "plt.show()"
      ],
      "metadata": {
        "colab": {
          "base_uri": "https://localhost:8080/",
          "height": 601
        },
        "id": "xr65Fuj0-98a",
        "outputId": "9eff0fcf-0fdd-4df0-abae-981fdea3eb75"
      },
      "execution_count": 95,
      "outputs": [
        {
          "output_type": "display_data",
          "data": {
            "image/png": "[encoded data removed]",
            "text/plain": [
              "<Figure size 1080x720 with 1 Axes>"
            ]
          },
          "metadata": {}
        }
      ]
    },
    {
      "cell_type": "markdown",
      "source": [
        "model with better performance"
      ],
      "metadata": {
        "id": "E2xnmcnTwyQs"
      }
    },
    {
      "cell_type": "code",
      "source": [
        "from sklearn import svm\n",
        "from sklearn.model_selection import RandomizedSearchCV,GridSearchCV\n",
        "from scipy.stats import randint as sp_randint\n",
        "\n",
        "RF_tunned=RandomForestClassifier(random_state=0)\n",
        "# params={'classifier__n_estimators':[5, 20],\n",
        "#         'classifier__max_features':[1,5,10,15,20],\n",
        "#         'classifier__max_depth': [2,6,10,14],\n",
        "#         'classifier__min_samples_split':[1,5,9],\n",
        "#         'classifier__min_samples_leaf':[1,3,5],\n",
        "#         'classifier__criterion':['gini','entropy']}\n",
        "\n",
        "# pipeline = imbpipeline(steps = [['smote', svm_smote],\n",
        "#                                 ['scaler', sc],\n",
        "#                                 ['classifier', RF_tunned]])\n",
        "# rsearch_svm=GridSearchCV(pipeline,params,cv=3,scoring='roc_auc',n_jobs=-1)\n",
        "\n",
        "# rsearch_svm.fit(trainx, ty)"
      ],
      "metadata": {
        "id": "U0JOiD_1w3bY"
      },
      "execution_count": 57,
      "outputs": []
    },
    {
      "cell_type": "code",
      "source": [
        "# rsearch_svm.best_params_"
      ],
      "metadata": {
        "id": "AbmCImnF1e3G"
      },
      "execution_count": 58,
      "outputs": []
    },
    {
      "cell_type": "code",
      "source": [
        "# rf_tunned=RandomForestClassifier(n_estimators=rsearch_svm.best_params_['classifier__n_estimators'],\n",
        "#                    criterion=rsearch_svm.best_params_['classifier__criterion'],\n",
        "#                    max_depth=rsearch_svm.best_params_['classifier__max_depth'],\n",
        "#                    max_features=rsearch_svm.best_params_['classifier__max_features'],\n",
        "#                    min_samples_leaf=rsearch_svm.best_params_['classifier__min_samples_leaf'],\n",
        "#                    min_samples_split=rsearch_svm.best_params_['classifier__min_samples_split'])"
      ],
      "metadata": {
        "id": "zoWiaTyg1qXZ"
      },
      "execution_count": 59,
      "outputs": []
    },
    {
      "cell_type": "code",
      "source": [
        "pipeline = imbpipeline(steps = [['smote', svm_smote],\n",
        "                                ['scaler', sc],\n",
        "                                ['classifier', RF_tunned]])\n",
        "rf_b_ac = cross_val_score(pipeline, trainx, ty, cv=5)\n",
        "print(\"%0.3f accuracy with a standard deviation of %0.3f\" % (rf_b_ac.mean(), rf_b_ac.std()))\n",
        "scores = cross_val_score(pipeline, trainx,ty, cv=5, scoring='f1')\n",
        "print(\"%0.3f f1-score with a standard deviation of %0.3f\" % (scores.mean(), scores.std()))\n",
        "scores = cross_val_score(pipeline, trainx, ty, cv=5, scoring='roc_auc')\n",
        "print(\"%0.3f auc with a standard deviation of %0.3f\" % (scores.mean(), scores.std()))\n",
        "scores = cross_val_score(pipeline, trainx, ty, cv=5, scoring='neg_log_loss')\n",
        "print(\"%0.3f neg_log_loss with a standard deviation of %0.3f\" % (scores.mean(), scores.std()))"
      ],
      "metadata": {
        "colab": {
          "base_uri": "https://localhost:8080/"
        },
        "id": "38RYyD5-2LGT",
        "outputId": "212f8da9-c1fb-4dd8-a2a3-7c1cbdf068c4"
      },
      "execution_count": 60,
      "outputs": [
        {
          "output_type": "stream",
          "name": "stdout",
          "text": [
            "0.883 accuracy with a standard deviation of 0.028\n",
            "0.657 f1-score with a standard deviation of 0.084\n",
            "0.902 auc with a standard deviation of 0.043\n",
            "-0.316 neg_log_loss with a standard deviation of 0.032\n"
          ]
        }
      ]
    },
    {
      "cell_type": "code",
      "source": [
        "from sklearn.model_selection import RandomizedSearchCV,GridSearchCV\n",
        "\n",
        "XGB_tunned=XGBClassifier(random_state=0)\n",
        "\n",
        "# params = {\n",
        "#         # 'classifier__min_child_weight': [2,6,10],\n",
        "#         # 'classifier__gamma': [0.5, 1, 1.5, 2, 5],\n",
        "#         # 'classifier__subsample': [0.6, 0.8, 1.0],\n",
        "#         # 'classifier__colsample_bytree': [0.6, 0.8, 1.0],\n",
        "#         'classifier__max_depth': [2,6,10]\n",
        "#         }\n",
        "\n",
        "pipeline = imbpipeline(steps = [['smote', svm_smote],\n",
        "                                ['scaler', sc],\n",
        "                                ['classifier', XGB_tunned]])\n",
        "rsearch_svm=GridSearchCV(pipeline,params,cv=3,scoring='roc_auc',n_jobs=-1)\n",
        "\n",
        "rsearch_svm.fit(trainx, ty)"
      ],
      "metadata": {
        "colab": {
          "base_uri": "https://localhost:8080/"
        },
        "id": "G6Oa7AAKr7Vd",
        "outputId": "6ba5e514-057b-42cb-8dde-7698af832a35"
      },
      "execution_count": 66,
      "outputs": [
        {
          "output_type": "execute_result",
          "data": {
            "text/plain": [
              "GridSearchCV(cv=3,\n",
              "             estimator=Pipeline(steps=[['smote', SMOTE(random_state=101)],\n",
              "                                       ['scaler', StandardScaler()],\n",
              "                                       ['classifier', XGBClassifier()]]),\n",
              "             n_jobs=-1, param_grid={'classifier__max_depth': [2, 6, 10]},\n",
              "             scoring='roc_auc')"
            ]
          },
          "metadata": {},
          "execution_count": 66
        }
      ]
    },
    {
      "cell_type": "code",
      "source": [
        "# rsearch_svm.best_params_"
      ],
      "metadata": {
        "id": "nzm9dAiyyBRO"
      },
      "execution_count": 67,
      "outputs": []
    },
    {
      "cell_type": "code",
      "source": [
        "# XGB_tunned=XGBClassifier(max_depth=2, random_state=0)"
      ],
      "metadata": {
        "id": "m8FVP2Bc3hhF"
      },
      "execution_count": 68,
      "outputs": []
    },
    {
      "cell_type": "code",
      "source": [
        "pipeline = imbpipeline(steps = [['smote', svm_smote],\n",
        "                                ['scaler', sc],\n",
        "                                ['classifier', XGB_tunned]])\n",
        "xgb_ac = cross_val_score(pipeline, trainx, ty, cv=5)\n",
        "print(\"%0.3f accuracy with a standard deviation of %0.3f\" % (xgb_ac.mean(), xgb_ac.std()))\n",
        "scores = cross_val_score(pipeline, trainx,ty, cv=5, scoring='f1')\n",
        "print(\"%0.3f f1-score with a standard deviation of %0.3f\" % (scores.mean(), scores.std()))\n",
        "scores = cross_val_score(pipeline, trainx, ty, cv=5, scoring='roc_auc')\n",
        "print(\"%0.3f auc with a standard deviation of %0.3f\" % (scores.mean(), scores.std()))\n",
        "scores = cross_val_score(pipeline, trainx, ty, cv=5, scoring='neg_log_loss')\n",
        "print(\"%0.3f neg_log_loss with a standard deviation of %0.3f\" % (scores.mean(), scores.std()))"
      ],
      "metadata": {
        "colab": {
          "base_uri": "https://localhost:8080/"
        },
        "id": "5ebGkpG1sn7f",
        "outputId": "7ab493f7-eae0-4809-ddc2-33eacbb4546e"
      },
      "execution_count": 69,
      "outputs": [
        {
          "output_type": "stream",
          "name": "stdout",
          "text": [
            "0.873 accuracy with a standard deviation of 0.034\n",
            "0.650 f1-score with a standard deviation of 0.091\n",
            "0.897 auc with a standard deviation of 0.040\n",
            "-0.308 neg_log_loss with a standard deviation of 0.054\n"
          ]
        }
      ]
    }
  ]
}